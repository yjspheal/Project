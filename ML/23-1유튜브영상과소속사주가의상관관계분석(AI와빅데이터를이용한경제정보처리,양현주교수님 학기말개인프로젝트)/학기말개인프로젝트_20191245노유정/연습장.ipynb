{
 "cells": [
  {
   "cell_type": "code",
   "execution_count": 2,
   "id": "7d81febd",
   "metadata": {},
   "outputs": [
    {
     "data": {
      "text/plain": [
       "3.3"
      ]
     },
     "execution_count": 2,
     "metadata": {},
     "output_type": "execute_result"
    }
   ],
   "source": [
    "1+2.3"
   ]
  },
  {
   "cell_type": "code",
   "execution_count": 3,
   "id": "787ffb9a",
   "metadata": {},
   "outputs": [
    {
     "name": "stdout",
     "output_type": "stream",
     "text": [
      "hello\n"
     ]
    },
    {
     "ename": "TypeError",
     "evalue": "unsupported operand type(s) for *: 'NoneType' and 'int'",
     "output_type": "error",
     "traceback": [
      "\u001b[1;31m---------------------------------------------------------------------------\u001b[0m",
      "\u001b[1;31mTypeError\u001b[0m                                 Traceback (most recent call last)",
      "\u001b[1;32m~\\AppData\\Local\\Temp/ipykernel_8280/1931513777.py\u001b[0m in \u001b[0;36m<module>\u001b[1;34m\u001b[0m\n\u001b[1;32m----> 1\u001b[1;33m \u001b[0mprint\u001b[0m\u001b[1;33m(\u001b[0m\u001b[1;34m\"hello\"\u001b[0m\u001b[1;33m)\u001b[0m \u001b[1;33m*\u001b[0m \u001b[1;36m3\u001b[0m\u001b[1;33m\u001b[0m\u001b[1;33m\u001b[0m\u001b[0m\n\u001b[0m",
      "\u001b[1;31mTypeError\u001b[0m: unsupported operand type(s) for *: 'NoneType' and 'int'"
     ]
    }
   ],
   "source": [
    "print(\"hello\") * 3"
   ]
  },
  {
   "cell_type": "code",
   "execution_count": 4,
   "id": "05ddefd2",
   "metadata": {},
   "outputs": [
    {
     "data": {
      "text/plain": [
       "[0, 1, 0, 1, 0, 1]"
      ]
     },
     "execution_count": 4,
     "metadata": {},
     "output_type": "execute_result"
    }
   ],
   "source": [
    "[0,1] * 3"
   ]
  },
  {
   "cell_type": "code",
   "execution_count": 5,
   "id": "68d7edc6",
   "metadata": {},
   "outputs": [
    {
     "data": {
      "text/plain": [
       "'hellohellohello'"
      ]
     },
     "execution_count": 5,
     "metadata": {},
     "output_type": "execute_result"
    }
   ],
   "source": [
    "\"hello\" * 3"
   ]
  },
  {
   "cell_type": "code",
   "execution_count": 6,
   "id": "fb44e837",
   "metadata": {},
   "outputs": [
    {
     "name": "stdout",
     "output_type": "stream",
     "text": [
      "False\n"
     ]
    }
   ],
   "source": [
    "print(None == False)"
   ]
  },
  {
   "cell_type": "code",
   "execution_count": 7,
   "id": "194fb063",
   "metadata": {},
   "outputs": [
    {
     "data": {
      "text/plain": [
       "False"
      ]
     },
     "execution_count": 7,
     "metadata": {},
     "output_type": "execute_result"
    }
   ],
   "source": [
    "a = None\n",
    "a == 0"
   ]
  },
  {
   "cell_type": "code",
   "execution_count": 21,
   "id": "7a23eea6",
   "metadata": {},
   "outputs": [
    {
     "data": {
      "text/plain": [
       "[2, 3, 4, 5, 6, 4.0]"
      ]
     },
     "execution_count": 21,
     "metadata": {},
     "output_type": "execute_result"
    }
   ],
   "source": [
    "a = [2,3,4,5,6,None]\n",
    "ase = [t for t in a if t]\n",
    "avg = sum(ase) / len(ase)\n",
    "a = [aa or avg for aa in a]\n",
    "a"
   ]
  },
  {
   "cell_type": "code",
   "execution_count": 19,
   "id": "6b086d7a",
   "metadata": {},
   "outputs": [
    {
     "data": {
      "text/plain": [
       "[2, 3, 4, 5, 6, 4.0]"
      ]
     },
     "execution_count": 19,
     "metadata": {},
     "output_type": "execute_result"
    }
   ],
   "source": [
    "a = [2,3,4,5,6,None]\n",
    "ase = [aa for aa in a if aa is not None]\n",
    "avg = sum(ase) / len(ase)\n",
    "for i, t in enumerate(a):\n",
    "    a[i] = t or avg\n",
    "a"
   ]
  },
  {
   "cell_type": "code",
   "execution_count": null,
   "id": "7205f790",
   "metadata": {},
   "outputs": [],
   "source": [
    "a = [2,3,4,5,6,None]\n",
    "ase = [aa for aa in a if aa is not None]\n",
    "avg = sum(ase) / len(ase)\n",
    "for i, t in enumerate(a):\n",
    "    a[i] = t or avg\n",
    "a"
   ]
  },
  {
   "cell_type": "code",
   "execution_count": 23,
   "id": "79ab4e46",
   "metadata": {},
   "outputs": [
    {
     "data": {
      "text/plain": [
       "[2, 3, 4, 5, 6, 4.0]"
      ]
     },
     "execution_count": 23,
     "metadata": {},
     "output_type": "execute_result"
    }
   ],
   "source": [
    "temperatures = [2,3,4,5,6,None]\n",
    "good = [t for t in temperatures if t]\n",
    "avg = sum(good) / len(good)\n",
    "for i, t in enumerate(temperatures):\n",
    "    temperatures[i] = t or avg\n",
    "    \n",
    "temperatures"
   ]
  },
  {
   "cell_type": "code",
   "execution_count": 24,
   "id": "71cfeb33",
   "metadata": {},
   "outputs": [
    {
     "data": {
      "text/plain": [
       "[2, 3, 4, 5, 6, 4.0]"
      ]
     },
     "execution_count": 24,
     "metadata": {},
     "output_type": "execute_result"
    }
   ],
   "source": [
    "temperatures = [2,3,4,5,6,None]\n",
    "good = [t for t in temperatures if t is not None]\n",
    "avg = sum(good) / len(good)\n",
    "temperatures = [t or avg for t in temperatures]\n",
    "\n",
    "temperatures"
   ]
  },
  {
   "cell_type": "code",
   "execution_count": 27,
   "id": "44206d29",
   "metadata": {},
   "outputs": [
    {
     "data": {
      "text/plain": [
       "[2, 3, 4, 5, 6, 4.0]"
      ]
     },
     "execution_count": 27,
     "metadata": {},
     "output_type": "execute_result"
    }
   ],
   "source": [
    "temperatures = [2,3,4,5,6,None]\n",
    "good = [t for t in temperatures if t is not None]\n",
    "avg = sum(good) / len(good)\n",
    "temperatures[:] = [t if t is not None else avg for t in temperatures]\n",
    "\n",
    "temperatures"
   ]
  },
  {
   "cell_type": "code",
   "execution_count": null,
   "id": "37a59714",
   "metadata": {},
   "outputs": [],
   "source": [
    "temperatures = [2,3,4,5,6,None]\n",
    "avg = sum\n",
    "\n",
    "temperatures"
   ]
  }
 ],
 "metadata": {
  "kernelspec": {
   "display_name": "Python 3 (ipykernel)",
   "language": "python",
   "name": "python3"
  },
  "language_info": {
   "codemirror_mode": {
    "name": "ipython",
    "version": 3
   },
   "file_extension": ".py",
   "mimetype": "text/x-python",
   "name": "python",
   "nbconvert_exporter": "python",
   "pygments_lexer": "ipython3",
   "version": "3.9.7"
  }
 },
 "nbformat": 4,
 "nbformat_minor": 5
}
