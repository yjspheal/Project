{
 "cells": [
  {
   "cell_type": "markdown",
   "id": "181a646d",
   "metadata": {},
   "source": [
    "# 데이터 수집"
   ]
  },
  {
   "cell_type": "code",
   "execution_count": null,
   "id": "565ca220",
   "metadata": {},
   "outputs": [],
   "source": [
    "import time\n",
    "import re\n",
    "import datetime as dt\n",
    "import pandas as pd\n",
    "import openpyxl as xl\n",
    "import os\n",
    "from bs4 import BeautifulSoup\n",
    "from selenium import webdriver\n",
    "from selenium.webdriver import Chrome\n",
    "from selenium.webdriver.common.keys import Keys\n",
    "from selenium.webdriver.chrome.options import Options\n",
    "from selenium.webdriver.common.by import By\n",
    "from tqdm import tqdm\n",
    "\n",
    "def get_youtube_data(ent, idol):\n",
    "    # 드라이버 주소 설정\n",
    "    browser = webdriver.Chrome(\".\\chromedriver.exe\") \n",
    "    browser.implicitly_wait(1)   \n",
    "    \n",
    "    # 크롤링 데이터를 저장할 경로 및 엑셀 파일 이름 지정\n",
    "    try:      # 데이터 100개를 저장할 폴더 생성('YT_data') 및 이미 존재하는 폴더일 시 예외처리\n",
    "        os.mkdir(\"new_YT_data\") \n",
    "    except FileExistsError:\n",
    "        print('YT_data 폴더가 이미 존재합니다. 해당 폴더에 데이터를 저장합니다.')\n",
    "    \n",
    "    result = pd.ExcelWriter(f\"./new_YT_data/{ent}_{idol}.xlsx\", engine='openpyxl')\n",
    "    \n",
    "    # 유튜브 검색을 위한 url을 만들어 열고 body 추출\n",
    "    yt_url = \"https://www.youtube.com\"\n",
    "    target_url  = yt_url + \"/results?search_query=\"+ idol + \"&sp=CAI%253D\"      # 업로드날짜 순으로 필터링\n",
    "    browser.get(target_url)\n",
    "    body = browser.find_element(By.TAG_NAME, 'body')\n",
    "    \n",
    "    # 전체 데이터를 추출하기 위하여 페이지를 쭉 내림. 필터링이 되기 때문에 단순히 내리기만 하면 됨\n",
    "    while True:  # 페이지 다운 수\n",
    "        for pg_down in range(100):\n",
    "            body.send_keys(Keys.PAGE_DOWN)\n",
    "            browser.implicitly_wait(10)   \n",
    "        # 해당 페이지 html 소스를 beautifulsoup을 이용하여 html 에 저장\n",
    "        html0 = browser.page_source\n",
    "        html = BeautifulSoup(html0,'html.parser')\n",
    "        last_date = html.find_all('span',{\"class\" : \"inline-metadata-item style-scope ytd-video-meta-block\"})[-1].get_text()\n",
    "        print(last_date)\n",
    "        \n",
    "        # 돌리던 중 영상이 끝난 경우(데뷔가 최근인 경우)\n",
    "        try:\n",
    "            msg = html.find_all('yt-formatted-string',{\"class\" : \"style-scope ytd-message-renderer\"})[0].get_text()\n",
    "        except:\n",
    "            msg = 1\n",
    "            pass\n",
    "        \n",
    "        if msg == '결과가 더 이상 없습니다.':\n",
    "            break\n",
    "        if last_date[-3:] == \"년 전\": \n",
    "            break\n",
    "    \n",
    "    # 검색 결과창에서 각 비디오 하나씩을 나누어줌\n",
    "    video_datas = html.find_all('ytd-video-renderer',{'class':'style-scope ytd-item-section-renderer'})\n",
    "\n",
    "    \n",
    "    #데이터 저장을 위한 기본 데이터프레임 생성\n",
    "    dataframe = pd.DataFrame({'title':[], 'youtube_url':[], 'views':[], \"nice\":[], \"reply\":[], \"upload\":[]})\n",
    "    \n",
    "    # 비디오 url을 저장할 리스트 생성(해당 url은 youtube.com/ 이후에 들어가는 부분)\n",
    "    video_url_list = []\n",
    "    for i in range(len(video_datas)):\n",
    "        # 검색 결과 창에서 얻을 수 있는 데이터인 동영상 제목(title)과 동영상 링크 추출\n",
    "        title = video_datas[i].find('a',{'id':'video-title'}).get_text() \n",
    "        url = yt_url + video_datas[i].find('a',{'id':'thumbnail'})['href']\n",
    "        video_url_list.append(url) # 이후 상세 페이지 접속에 사용\n",
    "        \n",
    "        if url.split('/')[-2] == 'shorts': # 쇼츠의 경우 상세 페이지 속 태그 형태가 다르므로 분류\n",
    "            shorts = True\n",
    "        else:\n",
    "            shorts = False\n",
    "        \n",
    "        # 빠른 크롤링을 위해 조회수가 1만(임의) 이상인 동영상만 접속하도록 함\n",
    "        try: # 조회수를 감춰두어 에러가 나는 경우가 있으므로 예외처리\n",
    "            view = video_datas[i].find_all(\"span\", {\"class\" : \"inline-metadata-item style-scope ytd-video-meta-block\"})[0].get_text()\n",
    "            if view[-2:] != '만회' and view[-2:] != '억회': # 조회수가 만, 억 단위가 아닌 경우\n",
    "                print(view, '조회수가 적어 패스합니다.')\n",
    "                continue\n",
    "        except:\n",
    "            pass  # continue\n",
    "            \n",
    "        # 상세 동영상 페이지 접속 및 바디 추출\n",
    "        cur_url = video_url_list[i]\n",
    "        browser.get(cur_url); browser.implicitly_wait(20)   \n",
    "        body = browser.find_element(By.TAG_NAME, 'body')\n",
    "        \n",
    "        # 댓글 수를 보려면 페이지를 동영상 목록까지 내린 후 기다려야 나오므로 페이지를 내리고 기다리는 과정을 반복\n",
    "        for pg_down in range(10):\n",
    "            body.send_keys(Keys.PAGE_DOWN)\n",
    "            browser.implicitly_wait(10) \n",
    "        \n",
    "        # 현재 동영상 페이지 소스코드를 beautifulsoup 이용하여 html에 저장\n",
    "        html0 = browser.page_source\n",
    "        html = BeautifulSoup(html0,'html.parser')\n",
    "        \n",
    "        # 조회수, 좋아요수, 댓글수는 영상마다 감춰두거나 막아놓는 경우가 있어 에러가 발생하여 예외처리\n",
    "        try:\n",
    "            if shorts == False: # 쇼츠가 아닌 일반 동영상의 경우\n",
    "                print(title, shorts, end = ' ')\n",
    "                \n",
    "                # 상세 조회수를 크롤링하고, nnn,nnn회 라는 결과를 얻게 되어 replace로 정리하여 정수로 저장\n",
    "                view_count = html.find('span',{'class':'view-count style-scope ytd-video-view-count-renderer'}).get_text().split()[1]\n",
    "                view_count = view_count.replace(\",\", \"\"); view_count = view_count.replace(\"회\", \"\"); view_count = int(view_count)\n",
    "                print(235)\n",
    "                \n",
    "                # 업로드 일자를 크롤링하여 만약 현재(코드를 돌리는 시점)부터 1년 이전에 만들어진 영상이라면 break하고 다음 '아이돌'로 넘어감(업로드 일자를 기준으로 정렬된 동영상들이기 때문에 이 이후는 볼 필요가 없으므로 break)\n",
    "                upload_date = html.find_all(\"yt-formatted-string\", {\"class\" : \"style-scope ytd-video-primary-info-renderer\"})[1].get_text()\n",
    "                print(upload_date, end = ' ')\n",
    "                daybefore = dt.datetime.today() - dt.timedelta(days = 365) \n",
    "                   \n",
    "                if upload_date.find('스트리밍') != -1 or upload_date.find('최초') != -1: # 스트리밍, 최초 공개 영상일 시 글자가 포함되어있으므로 제거\n",
    "                    stream = True\n",
    "                    upload_date = upload_date.split(':')[-1]\n",
    "                \n",
    "                if upload_date.find('.') == -1:   # 만약 업로드 날짜가 yyyy.mm.dd 형태가 아닌 경우는 24시간 이내 올라온 영상일 때 이므로 pass\n",
    "                    upload_date = dt.datetime.today()\n",
    "                else:\n",
    "                    if list(upload_date)[-1] == \".\":\n",
    "                        upload_date = upload_date[:-1]\n",
    "                        \n",
    "                    ul_year, ul_month, ul_day = map(int,upload_date.split(\".\"))\n",
    "                    upload_date = dt.datetime(ul_year, ul_month, ul_day)\n",
    "                \n",
    "                d = upload_date - daybefore\n",
    "                if d.days < 0:   # 업로드 1년 이전이라면 break\n",
    "                    break\n",
    "                \n",
    "                # 좋아요 수 크롤링. 여러 태그가 있어 while\n",
    "                tp = 1\n",
    "                while True:\n",
    "                    try:\n",
    "                        print(f'type {tp}', end = ' ')\n",
    "                        if tp == 1:  \n",
    "                            nice = html.find_all(\"div\", {\"class\" : \"factoid style-scope ytd-factoid-renderer\"})[0].get_text()\n",
    "                            \n",
    "                            break\n",
    "                        elif tp == 2:\n",
    "                            nices = html.find_all(\"div\", {\"id\" : \"segmented-like-button\"})[0]\n",
    "                            nice = nices.find(\"span\", {\"class\" : \"yt-core-attributed-string yt-core-attributed-string--white-space-no-wrap\"}).get_text()\n",
    "\n",
    "                            break\n",
    "                        elif tp == 3:\n",
    "                            nice = html.find_all(\"div\", {\"class\" : \"factoid style-scope ytd-factoid-renderer\"})[0].get_text()\n",
    "\n",
    "                            break\n",
    "                        \n",
    "                    except:\n",
    "                        tp += 1\n",
    "                        \n",
    "                nice_count = nice.split()[0]\n",
    "                print(tp, nice_count, end = ' ')\n",
    "                \n",
    "                nice_count = str(nice_count)\n",
    "                \n",
    "                mult = 1 # 좋아요 수가 1000개 미만인 경우는 nnn의 숫자만 반환되므로 마지막에 곱해주는 mult값을 초기화 시켜줌\n",
    "                if nice_count[-1] == '천':\n",
    "                    mult = 1000\n",
    "                    nice_count = nice_count[:-1]\n",
    "                elif nice_count[-1] == '만':\n",
    "                    mult = 10000\n",
    "                    nice_count = nice_count[:-1]\n",
    "                elif nice_count[-1] == '억':\n",
    "                    mult = 100000000\n",
    "                    nice_count = nice_count[:-1]\n",
    "\n",
    "                if nice_count.find(',') != -1:  # 수에 ,가 있으면 제거\n",
    "                    nice_count = nice_count.replace(\",\", \"\")\n",
    "\n",
    "                nice_count = float(nice_count) * mult\n",
    "                \n",
    "                # 댓글 수 크롤링. 댓글 수를 나타내는 태그와 class는 아래의 답글 수 등에서도 계속 사용되기 때문에 info에 댓글 수가 있는 comments-header를 추출하여 저장 후 사용\n",
    "                info = html.find('h2', {'class' : 'style-scope ytd-comments-header-renderer'})\n",
    "                reply_count = info.find_all('span', {'class' : 'style-scope yt-formatted-string'})[1].get_text()    #info에는 댓글/nnn/개 의 소스가 저장되어있어 2번째 인자 추출하여 get_text\n",
    "                print(reply_count, end = ' ')\n",
    "                \n",
    "                if reply_count.find(',') != -1:    # 수에 ,가 있으면 제거\n",
    "                    reply_count = reply_count.replace(\",\", \"\")\n",
    "                reply_count = int(reply_count)    # 정수로 변환하여 저장\n",
    "            \n",
    "                # 각 데이터를 합쳐 데이터프레임을 만들고 insert_data에 저장\n",
    "                insert_data = pd.DataFrame({'title':[title], 'youtube_url':[url], 'views':[view_count], \"nice\":[nice_count], \"reply\":[reply_count], \"upload\":[upload_date]})\n",
    "                print(\"추출 Yes\\n\")  # 코드 실행 중 가시화를 위한 코드\n",
    "                \n",
    "            if shorts == True: # 쇼츠의 경우\n",
    "                print(title, shorts, end = ' ')\n",
    "                \n",
    "                #쇼츠의 경우 각 쇼츠의 더보기 버튼 -> 설명 버튼을 눌러서 값을 확인해야 함\n",
    "                more_btn = browser.find_elements(By.XPATH, '//*[@id=\"button-shape\"]/button/yt-touch-feedback-shape/div/div[2]')[0]\n",
    "                browser.execute_script(\"arguments[0].click();\", more_btn)\n",
    "                \n",
    "                info_btn = browser.find_element(By.XPATH, '//*[@id=\"items\"]/ytd-menu-service-item-renderer') # 설명 클릭\n",
    "                browser.execute_script(\"arguments[0].click();\", info_btn) # .click()보다 에러 적음. Element is not clickable at point 에러 방지\n",
    "                \n",
    "                # 현재 쇼츠 설명 페이지 소스코드를 beautifulsoup 이용하여 html에 저장\n",
    "                html0 = browser.page_source\n",
    "                html_info = BeautifulSoup(html0,'html.parser')\n",
    "    \n",
    "                # 상세 조회수를 크롤링하고, nnn,nnn 라는 결과를 얻게 되어 replace로 정리하여 정수로 저장\n",
    "                view_count = html_info.find_all('yt-formatted-string',{'class':'factoid-value style-scope ytd-factoid-renderer'})[1].get_text()\n",
    "                view_count = view_count.replace(\",\", \"\"); view_count = int(view_count)\n",
    "                \n",
    "                # 업로드 일자를 크롤링하여 만약 현재(코드를 돌리는 시점)부터 년 이전에 만들어진 영상이라면 break하고 다음 '아이돌'로 넘어감(업로드 일자를 기준으로 정렬된 동영상들이기 때문에 이 이후는 볼 필요가 없으므로 break)\n",
    "                upload = html_info.find_all(\"div\", {\"class\" : \"factoid style-scope ytd-factoid-renderer\"})[2]\n",
    "                upload_date = upload[\"aria-label\"]\n",
    "                \n",
    "                print(upload_date, end = ' ')\n",
    "                daybefore = dt.datetime.today() - dt.timedelta(days = 365) \n",
    "                \n",
    "                if upload_date.find('스트리밍') != -1 or upload_date.find('최초') != -1: # 스트리밍, 최초 공개 영상일 시 글자가 포함되어있으므로 제거\n",
    "                    upload_date = upload_date.split(':')[-1]\n",
    "                \n",
    "                if upload_date.find('.') == -1:   # 만약 업로드 날짜가 yyyy.mm.dd 형태가 아닌 경우는 24시간 이내 올라온 영상일 때 이므로 pass\n",
    "                    upload_date = dt.datetime.today()\n",
    "                else:\n",
    "                    if list(upload_date)[-1] == \".\":\n",
    "                        upload_date = upload_date[:-1]\n",
    "                        \n",
    "                    ul_year, ul_month, ul_day = map(int,upload_date.split(\".\"))\n",
    "                    upload_date = dt.datetime(ul_year, ul_month, ul_day)\n",
    "                \n",
    "                d = upload_date - daybefore\n",
    "                if d.days < 0:   # 업로드 1년 이전이라면 break\n",
    "                    break\n",
    "                    \n",
    "                # 좋아요 수 크롤링\n",
    "                nice_count = html_info.find_all('yt-formatted-string',{'class':'factoid-value style-scope ytd-factoid-renderer'})[0].get_text()\n",
    "                print(nice_count, end = ' ')\n",
    "    \n",
    "                # 좋아요 수가 100개 이하인 경우 콤마가 포함되지 않는 숫자가 반환되어 replace가 에러날 수 있으므로 문자로 변환하였다가 정제 후 정수로 다시 변환하여 저장\n",
    "                nice_count = str(nice_count)\n",
    "                \n",
    "                mult = 1 # 좋아요 수가 1000개 미만인 경우는 nnn의 숫자만 반환되므로 마지막에 곱해주는 mult값을 초기화 시켜줌\n",
    "                if nice_count[-1] == '천':\n",
    "                    mult = 1000\n",
    "                    nice_count = nice_count[:-1]\n",
    "                elif nice_count[-1] == '만':\n",
    "                    mult = 10000\n",
    "                    nice_count = nice_count[:-1]\n",
    "                elif nice_count[-1] == '억':\n",
    "                    mult = 100000000\n",
    "                    nice_count = nice_count[:-1]\n",
    "\n",
    "                if nice_count.find(',') != -1:  # 수에 ,가 있으면 제거\n",
    "                    nice_count = nice_count.replace(\",\", \"\")\n",
    "\n",
    "                nice_count = float(nice_count) * mult\n",
    "                \n",
    "                # 댓글 수 크롤링. 댓글 수를 나타내는 태그와 class는 아래의 답글 수 등에서도 계속 사용되기 때문에 info에 댓글 수가 있는 comments-header를 추출하여 저장 후 사용\n",
    "                reply_count = html.find_all('span', {'class' : 'yt-core-attributed-string yt-core-attributed-string--white-space-pre-wrap yt-core-attributed-string--text-alignment-center yt-core-attributed-string--word-wrapping'})[2].get_text()    #info에는 댓글/nnn/개 의 소스가 저장되어있어 2번째 인자 추출하여 get_text\n",
    "                print(reply_count, end = ' ')\n",
    "                \n",
    "                if reply_count.find(',') != -1:    # 수에 ,가 있으면 제거\n",
    "                    reply_count = reply_count.replace(\",\", \"\")\n",
    "                reply_count = int(reply_count)    # 정수로 변환하여 저장\n",
    "            \n",
    "                # 각 데이터를 합쳐 데이터프레임을 만들고 insert_data에 저장\n",
    "                insert_data = pd.DataFrame({'title':[title], 'youtube_url':[url], 'views':[view_count], \"nice\":[nice_count], \"reply\":[reply_count], \"upload\":[upload_date]})\n",
    "                print(\"추출 Yes\\n\")  # 코드 실행 중 가시화를 위한 코드\n",
    "\n",
    "        except Exception as e:\n",
    "                continue \n",
    "         \n",
    "        # insert_data를 위에 만들었던 dataframe에 합쳐넣고, 이를 엑셀로 변환하여 저장\n",
    "        dataframe = dataframe.append(insert_data)\n",
    "        dataframe.to_excel(result, index = False)\n",
    "        result.save()\n",
    "    \n",
    "    # dataframe에 들어가는 데이터가 없는 경우, 즉 최근 1년 이내에 올라온 조회수 10000 이상의 동영상이 없는 경우 엑셀이 제대로 저장되지 않으므로 데이터프레임을 하나 만들어서 저장\n",
    "    if dataframe.shape[0] == 0:\n",
    "        dataframe = pd.DataFrame({'title': [0], 'youtube_url': [0], 'views':[0], \"nice\":[0], \"reply\":[0]})   # 조회수가 0인 영상을 존재하지 않기 때문에 시각화 과정에서 이를 이용하여 실제 데이터와 분리\n",
    "        dataframe.to_excel(result, index = False)\n",
    "        result.save()\n",
    "    \n",
    "\n",
    "def youtube_crawling():\n",
    "    # 소속사와 아이돌 그룹명이 들어있는 엑셀 파일을 불러와 활성화\n",
    "    raw_data = xl.load_workbook('아이돌리스트.xlsx')\n",
    "    raw_data = raw_data.active\n",
    "    \n",
    "    # A,B 열에서 각각 소속사와 아이돌 그룹명(이 들어있는 셀 리스트)를 slice하여 저장\n",
    "    enter_name = raw_data[\"A\"][1::]\n",
    "    group_name = raw_data[\"B\"][1::]\n",
    "    \n",
    "    # get_youtube_data 함수에 제품명과 브랜드를 넣어 실행\n",
    "    for i in range(len(group_name)):\n",
    "        group = group_name[i].value   # _name[i] 자체는 셀이기 때문에 value로 셀의 내용을 추출하여 저장\n",
    "        enter = enter_name[i].value\n",
    "        print(f'{group}')  # 코드 실행 중 가시화를 위한 코드\n",
    "        if group == '': # 엑셀 파일 내 빈 셀이 있어서 에러 나는 경우 방지\n",
    "            break\n",
    "        get_youtube_data(enter, group)\n",
    "    \n",
    "    print('추출이 완료되었습니다.')\n",
    "    "
   ]
  },
  {
   "cell_type": "markdown",
   "id": "4d24a5c7",
   "metadata": {},
   "source": [
    "### ※ 크롤링이 진행되는 함수로, 실행 시간 오래 걸림"
   ]
  },
  {
   "cell_type": "code",
   "execution_count": null,
   "id": "798afac0",
   "metadata": {},
   "outputs": [],
   "source": [
    "youtube_crawling()"
   ]
  },
  {
   "cell_type": "markdown",
   "id": "12fbb448",
   "metadata": {},
   "source": [
    "# 데이터 전처리"
   ]
  },
  {
   "cell_type": "code",
   "execution_count": 1,
   "id": "4d7f6afc",
   "metadata": {},
   "outputs": [],
   "source": [
    "import time\n",
    "import re\n",
    "import datetime as dt\n",
    "import pandas as pd\n",
    "import openpyxl as xl\n",
    "import os\n",
    "from bs4 import BeautifulSoup\n",
    "from selenium import webdriver\n",
    "from selenium.webdriver import Chrome\n",
    "from selenium.webdriver.common.keys import Keys\n",
    "from selenium.webdriver.chrome.options import Options\n",
    "from selenium.webdriver.common.by import By\n",
    "from tqdm import tqdm\n"
   ]
  },
  {
   "cell_type": "code",
   "execution_count": 2,
   "id": "5e85888b",
   "metadata": {},
   "outputs": [
    {
     "data": {
      "text/html": [
       "<div>\n",
       "<style scoped>\n",
       "    .dataframe tbody tr th:only-of-type {\n",
       "        vertical-align: middle;\n",
       "    }\n",
       "\n",
       "    .dataframe tbody tr th {\n",
       "        vertical-align: top;\n",
       "    }\n",
       "\n",
       "    .dataframe thead th {\n",
       "        text-align: right;\n",
       "    }\n",
       "</style>\n",
       "<table border=\"1\" class=\"dataframe\">\n",
       "  <thead>\n",
       "    <tr style=\"text-align: right;\">\n",
       "      <th></th>\n",
       "      <th>소속사</th>\n",
       "      <th>그룹</th>\n",
       "      <th>약칭</th>\n",
       "      <th>회사번호</th>\n",
       "    </tr>\n",
       "  </thead>\n",
       "  <tbody>\n",
       "    <tr>\n",
       "      <th>0</th>\n",
       "      <td>HYBE</td>\n",
       "      <td>세븐틴</td>\n",
       "      <td>SVT</td>\n",
       "      <td>352820</td>\n",
       "    </tr>\n",
       "    <tr>\n",
       "      <th>1</th>\n",
       "      <td>HYBE</td>\n",
       "      <td>방탄소년단</td>\n",
       "      <td>BTS</td>\n",
       "      <td>352820</td>\n",
       "    </tr>\n",
       "    <tr>\n",
       "      <th>2</th>\n",
       "      <td>HYBE</td>\n",
       "      <td>르세라핌</td>\n",
       "      <td>LSRF</td>\n",
       "      <td>352820</td>\n",
       "    </tr>\n",
       "    <tr>\n",
       "      <th>3</th>\n",
       "      <td>HYBE</td>\n",
       "      <td>뉴진스</td>\n",
       "      <td>NJS</td>\n",
       "      <td>352820</td>\n",
       "    </tr>\n",
       "    <tr>\n",
       "      <th>4</th>\n",
       "      <td>HYBE</td>\n",
       "      <td>엔하이픈</td>\n",
       "      <td>EHP</td>\n",
       "      <td>352820</td>\n",
       "    </tr>\n",
       "  </tbody>\n",
       "</table>\n",
       "</div>"
      ],
      "text/plain": [
       "    소속사     그룹    약칭    회사번호\n",
       "0  HYBE    세븐틴   SVT  352820\n",
       "1  HYBE  방탄소년단   BTS  352820\n",
       "2  HYBE   르세라핌  LSRF  352820\n",
       "3  HYBE    뉴진스   NJS  352820\n",
       "4  HYBE   엔하이픈   EHP  352820"
      ]
     },
     "execution_count": 2,
     "metadata": {},
     "output_type": "execute_result"
    }
   ],
   "source": [
    "entidol = pd.read_excel('./아이돌리스트.xlsx', dtype = str) # 코드가 0으로 시작하면 없어지는 오류 방지\n",
    "ent = entidol['소속사']\n",
    "idol = entidol['그룹']\n",
    "dol = entidol['약칭']\n",
    "ent_code = entidol['회사번호']\n",
    "entidol.head()"
   ]
  },
  {
   "cell_type": "code",
   "execution_count": 3,
   "id": "042af1b2",
   "metadata": {
    "scrolled": true
   },
   "outputs": [],
   "source": [
    "import math\n",
    "from urllib.request import *\n",
    "from bs4 import *\n",
    "import matplotlib.pyplot as plt\n",
    "\n",
    "def extractLastPrice(webUrl, DN):\n",
    "    pList = []\n",
    "    dList = []\n",
    "    PN = int(math.ceil(DN / 20)) # 종가가 20개 단위로 있으므로 페이지 넘기는 수를 계산하기 위해\n",
    "    \n",
    "    for pn in range(1,PN+1):\n",
    "        req = Request(f'{webUrl}&page={pn}')\n",
    "        req.add_header('User-Agent', 'Mozilla/5.0')\n",
    "        \n",
    "        wPage = urlopen(req)\n",
    "        soup = BeautifulSoup(wPage,\"html.parser\")\n",
    "        trList = soup.find_all(\"tr\", {\"onmouseover\" : \"mouseOver(this)\"})\n",
    "        dayList = soup.find_all(\"span\", {\"class\" : \"tah p10 gray03\"})\n",
    "        \n",
    "        for tr in trList:\n",
    "            tdList = tr.find_all(\"td\")\n",
    "            price = tdList[1].get_text()\n",
    "            price = int(price.replace(\",\" , \"\"))\n",
    "            pList.append(price)\n",
    "            \n",
    "        for i in range(20):\n",
    "            day = dayList[i].get_text()\n",
    "            day = day.replace(\".\",\"-\")\n",
    "            dList.append(day)\n",
    "            \n",
    "    return pList, dList\n",
    "\n",
    "\n",
    "# url = f'https://finance.naver.com/item/frgn.nhn?code=122870'\n",
    "# prices, days = extractLastPrice(url, 300)\n",
    "# print(prices, days)\n"
   ]
  },
  {
   "cell_type": "code",
   "execution_count": 4,
   "id": "11052a9d",
   "metadata": {
    "scrolled": false
   },
   "outputs": [],
   "source": [
    "#122870\n",
    "import numpy as np\n",
    "\n",
    "for i in range(len(entidol)):\n",
    "    if i > 1 and ent_code[i] == ent_code[i-1]:\n",
    "        continue\n",
    "    \n",
    "    \n",
    "    url = f'https://finance.naver.com/item/frgn.nhn?code={ent_code[i]}'\n",
    "    prices, days = extractLastPrice(url, 300)\n",
    "    \n",
    "    end = dt.datetime.now()\n",
    "    start = end - dt.timedelta(days = 500)\n",
    "    \n",
    "    \n",
    "    dates = [date.strftime(\"%Y-%m-%d\") for date in pd.date_range(start, periods=501)]\n",
    "    dates.reverse()\n",
    "    globals()[f'data_{ent[i]}'] = pd.DataFrame({'종가':[np.nan]* 501},index = dates)\n",
    "    \n",
    "    for d in range(len(days)):\n",
    "        globals()[f'data_{ent[i]}'].loc[days[d]]['종가'] = prices[d]\n",
    "    \n",
    "    # 종가가 없는 날, 즉 주식 거래가 이루어지지 않은 날을 제거\n",
    "    globals()[f'data_{ent[i]}'] = globals()[f'data_{ent[i]}'].dropna(axis = 0)\n"
   ]
  },
  {
   "cell_type": "code",
   "execution_count": 5,
   "id": "2a4f48e7",
   "metadata": {},
   "outputs": [
    {
     "data": {
      "text/plain": [
       "count       300.000000\n",
       "mean     193102.666667\n",
       "std       51721.666273\n",
       "min      109500.000000\n",
       "25%      155500.000000\n",
       "50%      182050.000000\n",
       "75%      227625.000000\n",
       "max      307000.000000\n",
       "Name: 종가, dtype: float64"
      ]
     },
     "execution_count": 5,
     "metadata": {},
     "output_type": "execute_result"
    }
   ],
   "source": [
    "data_HYBE['종가'].describe()"
   ]
  },
  {
   "cell_type": "code",
   "execution_count": 6,
   "id": "878e9083",
   "metadata": {},
   "outputs": [
    {
     "data": {
      "text/html": [
       "<div>\n",
       "<style scoped>\n",
       "    .dataframe tbody tr th:only-of-type {\n",
       "        vertical-align: middle;\n",
       "    }\n",
       "\n",
       "    .dataframe tbody tr th {\n",
       "        vertical-align: top;\n",
       "    }\n",
       "\n",
       "    .dataframe thead th {\n",
       "        text-align: right;\n",
       "    }\n",
       "</style>\n",
       "<table border=\"1\" class=\"dataframe\">\n",
       "  <thead>\n",
       "    <tr style=\"text-align: right;\">\n",
       "      <th></th>\n",
       "      <th>title</th>\n",
       "      <th>youtube_url</th>\n",
       "      <th>views</th>\n",
       "      <th>nice</th>\n",
       "      <th>reply</th>\n",
       "      <th>upload</th>\n",
       "    </tr>\n",
       "  </thead>\n",
       "  <tbody>\n",
       "    <tr>\n",
       "      <th>0</th>\n",
       "      <td>\\n\\n[INSIDE SEVENTEEN] SEVENTEEN (세븐틴) ‘출장십오야2...</td>\n",
       "      <td>https://www.youtube.com/watch?v=QbpzhHv7OdM&amp;pp...</td>\n",
       "      <td>344969</td>\n",
       "      <td>36000</td>\n",
       "      <td>724</td>\n",
       "      <td>2023-06-23</td>\n",
       "    </tr>\n",
       "    <tr>\n",
       "      <th>1</th>\n",
       "      <td>\\n\\n[세븐틴] 궁예원우 진짜 착하다…\\n</td>\n",
       "      <td>https://www.youtube.com/shorts/oWOspVyq2Hg</td>\n",
       "      <td>28197</td>\n",
       "      <td>2800</td>\n",
       "      <td>23</td>\n",
       "      <td>2023-06-23</td>\n",
       "    </tr>\n",
       "    <tr>\n",
       "      <th>2</th>\n",
       "      <td>\\n\\n4세대 남돌 비쥬얼 #shorts\\n</td>\n",
       "      <td>https://www.youtube.com/shorts/-I1xMWhBqoE</td>\n",
       "      <td>114915</td>\n",
       "      <td>5400</td>\n",
       "      <td>264</td>\n",
       "      <td>2023-06-23</td>\n",
       "    </tr>\n",
       "    <tr>\n",
       "      <th>3</th>\n",
       "      <td>\\n\\n멤버들의 최애 아이돌 앨범 깡을 해보았습니다❤️ 과연 최애 멤버의 포토카드가...</td>\n",
       "      <td>https://www.youtube.com/watch?v=uLzAnh1aH0k&amp;pp...</td>\n",
       "      <td>25323</td>\n",
       "      <td>489</td>\n",
       "      <td>80</td>\n",
       "      <td>2023-06-23</td>\n",
       "    </tr>\n",
       "    <tr>\n",
       "      <th>4</th>\n",
       "      <td>\\n\\nMingyu DoBo will be the nightmare of Seung...</td>\n",
       "      <td>https://www.youtube.com/shorts/2oqGQhqGdHw</td>\n",
       "      <td>41541</td>\n",
       "      <td>4900</td>\n",
       "      <td>43</td>\n",
       "      <td>2023-06-23</td>\n",
       "    </tr>\n",
       "  </tbody>\n",
       "</table>\n",
       "</div>"
      ],
      "text/plain": [
       "                                               title  \\\n",
       "0  \\n\\n[INSIDE SEVENTEEN] SEVENTEEN (세븐틴) ‘출장십오야2...   \n",
       "1                           \\n\\n[세븐틴] 궁예원우 진짜 착하다…\\n   \n",
       "2                           \\n\\n4세대 남돌 비쥬얼 #shorts\\n   \n",
       "3  \\n\\n멤버들의 최애 아이돌 앨범 깡을 해보았습니다❤️ 과연 최애 멤버의 포토카드가...   \n",
       "4  \\n\\nMingyu DoBo will be the nightmare of Seung...   \n",
       "\n",
       "                                         youtube_url   views   nice  reply  \\\n",
       "0  https://www.youtube.com/watch?v=QbpzhHv7OdM&pp...  344969  36000    724   \n",
       "1         https://www.youtube.com/shorts/oWOspVyq2Hg   28197   2800     23   \n",
       "2         https://www.youtube.com/shorts/-I1xMWhBqoE  114915   5400    264   \n",
       "3  https://www.youtube.com/watch?v=uLzAnh1aH0k&pp...   25323    489     80   \n",
       "4         https://www.youtube.com/shorts/2oqGQhqGdHw   41541   4900     43   \n",
       "\n",
       "      upload  \n",
       "0 2023-06-23  \n",
       "1 2023-06-23  \n",
       "2 2023-06-23  \n",
       "3 2023-06-23  \n",
       "4 2023-06-23  "
      ]
     },
     "execution_count": 6,
     "metadata": {},
     "output_type": "execute_result"
    }
   ],
   "source": [
    "svt = pd.read_excel(f'./new_YT_data/HYBE_세븐틴.xlsx')\n",
    "svt.head()"
   ]
  },
  {
   "cell_type": "code",
   "execution_count": 7,
   "id": "d278f6dd",
   "metadata": {},
   "outputs": [],
   "source": [
    "for i in range(len(entidol)):\n",
    "    df = pd.read_excel(f'./new_YT_data/{ent[i]}_{idol[i]}.xlsx')\n",
    "    df['upload'] = df['upload'].apply(lambda x: str(x)[:10])\n",
    "    df['count'] = [1] * len(df)\n",
    "    df = df.groupby(by = 'upload').sum()  # 업로드 일자가 같은 경우 데이터를 더함.\n",
    "    \n",
    "    # 댓글 수가 0이면 1로 변환\n",
    "    df['reply'] = df['reply'].replace(0,1)\n",
    "    \n",
    "    # 좋아요 수와 댓글 수를 각각의 비율로 대체함.\n",
    "    df['npv'] = df['nice'] / df['views']\n",
    "    df['npr'] = df['nice'] / df['reply']\n",
    "    \n",
    "    del df['nice']\n",
    "    del df['reply']\n",
    "    \n",
    "    df.rename(columns = lambda x: x + f'_{dol[i]}', inplace = True) #그룹별 데이터를 변수로 적용\n",
    "    globals()[f'data_{ent[i]}'] = pd.concat([globals()[f'data_{ent[i]}'],df], axis = 1)\n",
    "    \n",
    "    #종가가 없는 날 drop\n",
    "    globals()[f'data_{ent[i]}'].dropna(subset = ['종가'], inplace = True)\n",
    "    globals()[f'data_{ent[i]}'].fillna(globals()[f'data_{ent[i]}'].median(),inplace = True)   # 결측값을 0으로 채움\n",
    "    \n",
    "    #종가 열을 전날과의 종가 차이, 즉 변화값으로 변경.\n",
    "    globals()[f'data_{ent[i]}']['종가'] = globals()[f'data_{ent[i]}']['종가'].diff()\n",
    "    globals()[f'data_{ent[i]}']['종가'].iloc[0] = 0\n",
    "    \n",
    "    \n",
    "    \n",
    "    "
   ]
  },
  {
   "cell_type": "code",
   "execution_count": 8,
   "id": "d9bd377a",
   "metadata": {},
   "outputs": [
    {
     "data": {
      "text/html": [
       "<div>\n",
       "<style scoped>\n",
       "    .dataframe tbody tr th:only-of-type {\n",
       "        vertical-align: middle;\n",
       "    }\n",
       "\n",
       "    .dataframe tbody tr th {\n",
       "        vertical-align: top;\n",
       "    }\n",
       "\n",
       "    .dataframe thead th {\n",
       "        text-align: right;\n",
       "    }\n",
       "</style>\n",
       "<table border=\"1\" class=\"dataframe\">\n",
       "  <thead>\n",
       "    <tr style=\"text-align: right;\">\n",
       "      <th></th>\n",
       "      <th>종가</th>\n",
       "      <th>views_BB</th>\n",
       "      <th>count_BB</th>\n",
       "      <th>npv_BB</th>\n",
       "      <th>npr_BB</th>\n",
       "      <th>views_BLPK</th>\n",
       "      <th>count_BLPK</th>\n",
       "      <th>npv_BLPK</th>\n",
       "      <th>npr_BLPK</th>\n",
       "      <th>views_WN</th>\n",
       "      <th>count_WN</th>\n",
       "      <th>npv_WN</th>\n",
       "      <th>npr_WN</th>\n",
       "    </tr>\n",
       "  </thead>\n",
       "  <tbody>\n",
       "    <tr>\n",
       "      <th>2022-04-14</th>\n",
       "      <td>-10700.0</td>\n",
       "      <td>296864.0</td>\n",
       "      <td>1.0</td>\n",
       "      <td>0.013084</td>\n",
       "      <td>19.685714</td>\n",
       "      <td>2084487.0</td>\n",
       "      <td>1.0</td>\n",
       "      <td>0.023517</td>\n",
       "      <td>33.515882</td>\n",
       "      <td>168786.0</td>\n",
       "      <td>1.0</td>\n",
       "      <td>0.030093</td>\n",
       "      <td>21.834061</td>\n",
       "    </tr>\n",
       "    <tr>\n",
       "      <th>2022-04-13</th>\n",
       "      <td>10700.0</td>\n",
       "      <td>296864.0</td>\n",
       "      <td>1.0</td>\n",
       "      <td>0.013084</td>\n",
       "      <td>19.685714</td>\n",
       "      <td>2084487.0</td>\n",
       "      <td>1.0</td>\n",
       "      <td>0.023517</td>\n",
       "      <td>33.515882</td>\n",
       "      <td>168786.0</td>\n",
       "      <td>1.0</td>\n",
       "      <td>0.030093</td>\n",
       "      <td>21.834061</td>\n",
       "    </tr>\n",
       "    <tr>\n",
       "      <th>2022-04-12</th>\n",
       "      <td>-5700.0</td>\n",
       "      <td>296864.0</td>\n",
       "      <td>1.0</td>\n",
       "      <td>0.013084</td>\n",
       "      <td>19.685714</td>\n",
       "      <td>2084487.0</td>\n",
       "      <td>1.0</td>\n",
       "      <td>0.023517</td>\n",
       "      <td>33.515882</td>\n",
       "      <td>168786.0</td>\n",
       "      <td>1.0</td>\n",
       "      <td>0.030093</td>\n",
       "      <td>21.834061</td>\n",
       "    </tr>\n",
       "    <tr>\n",
       "      <th>2022-04-11</th>\n",
       "      <td>800.0</td>\n",
       "      <td>296864.0</td>\n",
       "      <td>1.0</td>\n",
       "      <td>0.013084</td>\n",
       "      <td>19.685714</td>\n",
       "      <td>2084487.0</td>\n",
       "      <td>1.0</td>\n",
       "      <td>0.023517</td>\n",
       "      <td>33.515882</td>\n",
       "      <td>168786.0</td>\n",
       "      <td>1.0</td>\n",
       "      <td>0.030093</td>\n",
       "      <td>21.834061</td>\n",
       "    </tr>\n",
       "    <tr>\n",
       "      <th>2022-04-08</th>\n",
       "      <td>2600.0</td>\n",
       "      <td>296864.0</td>\n",
       "      <td>1.0</td>\n",
       "      <td>0.013084</td>\n",
       "      <td>19.685714</td>\n",
       "      <td>2084487.0</td>\n",
       "      <td>1.0</td>\n",
       "      <td>0.023517</td>\n",
       "      <td>33.515882</td>\n",
       "      <td>168786.0</td>\n",
       "      <td>1.0</td>\n",
       "      <td>0.030093</td>\n",
       "      <td>21.834061</td>\n",
       "    </tr>\n",
       "  </tbody>\n",
       "</table>\n",
       "</div>"
      ],
      "text/plain": [
       "                 종가  views_BB  count_BB    npv_BB     npr_BB  views_BLPK  \\\n",
       "2022-04-14 -10700.0  296864.0       1.0  0.013084  19.685714   2084487.0   \n",
       "2022-04-13  10700.0  296864.0       1.0  0.013084  19.685714   2084487.0   \n",
       "2022-04-12  -5700.0  296864.0       1.0  0.013084  19.685714   2084487.0   \n",
       "2022-04-11    800.0  296864.0       1.0  0.013084  19.685714   2084487.0   \n",
       "2022-04-08   2600.0  296864.0       1.0  0.013084  19.685714   2084487.0   \n",
       "\n",
       "            count_BLPK  npv_BLPK   npr_BLPK  views_WN  count_WN    npv_WN  \\\n",
       "2022-04-14         1.0  0.023517  33.515882  168786.0       1.0  0.030093   \n",
       "2022-04-13         1.0  0.023517  33.515882  168786.0       1.0  0.030093   \n",
       "2022-04-12         1.0  0.023517  33.515882  168786.0       1.0  0.030093   \n",
       "2022-04-11         1.0  0.023517  33.515882  168786.0       1.0  0.030093   \n",
       "2022-04-08         1.0  0.023517  33.515882  168786.0       1.0  0.030093   \n",
       "\n",
       "               npr_WN  \n",
       "2022-04-14  21.834061  \n",
       "2022-04-13  21.834061  \n",
       "2022-04-12  21.834061  \n",
       "2022-04-11  21.834061  \n",
       "2022-04-08  21.834061  "
      ]
     },
     "execution_count": 8,
     "metadata": {},
     "output_type": "execute_result"
    }
   ],
   "source": [
    "data_YG.tail()"
   ]
  },
  {
   "cell_type": "markdown",
   "id": "fc12b3b9",
   "metadata": {},
   "source": [
    "# 모델 만들기"
   ]
  },
  {
   "cell_type": "code",
   "execution_count": 9,
   "id": "2d557251",
   "metadata": {},
   "outputs": [],
   "source": [
    "import os\n",
    "import pandas as pd\n",
    "import numpy as np\n",
    "import glob\n",
    "import random\n",
    "\n",
    "from matplotlib import pyplot as plt\n",
    "from matplotlib.pyplot import figure\n",
    "import seaborn as sns\n",
    "\n",
    "from sklearn.linear_model import LinearRegression\n",
    "from sklearn.metrics import r2_score\n",
    "from sklearn.metrics import mean_squared_error\n",
    "from sklearn.model_selection import train_test_split"
   ]
  },
  {
   "cell_type": "code",
   "execution_count": 10,
   "id": "159489bf",
   "metadata": {},
   "outputs": [],
   "source": [
    "# calculate r2 and rmse\n",
    "\n",
    "def calculate_r2_rmse(predicted_var, true_var):\n",
    "    \n",
    "    predicted_var = predicted_var.reshape(-1, 1)\n",
    "    #true_var = true_var.reshape(-1, 1)\n",
    "\n",
    "    reg = LinearRegression()\n",
    "    reg.fit(predicted_var, true_var)\n",
    "    r2a = reg.score(predicted_var, true_var) # r2 from lin. reg.\n",
    "    r2b = r2_score(predicted_var, true_var) # r2 from sklearn\n",
    "    mse = mean_squared_error(predicted_var, true_var)\n",
    "\n",
    "    return r2a, r2b, np.sqrt(mse)"
   ]
  },
  {
   "cell_type": "code",
   "execution_count": 11,
   "id": "c5e621f0",
   "metadata": {},
   "outputs": [],
   "source": [
    "def display_kden_scatter(method_name, y_pred, y_true, figsize, dpi):\n",
    "    \n",
    "    ### method_name: method name to display for r2, rmse (e,g. \"CNN\")\n",
    "\n",
    "    # display options\n",
    "    figure(figsize=figsize, dpi=dpi)\n",
    "    sns.set_style('whitegrid')\n",
    "\n",
    "    # kdensity\n",
    "    plt.subplot(1, 3, 1)\n",
    "    sns.kdeplot(y_true, label='true', fill=True)\n",
    "    sns.kdeplot(y_pred, label='predictions', fill=True)\n",
    "    plt.legend()\n",
    "\n",
    "    # scatter w/ lowess\n",
    "    plt.subplot(1, 3, 2)\n",
    "    sns.set_style('whitegrid')\n",
    "    sns.regplot(x=y_pred, y=y_true, lowess=True, line_kws={\"color\": \"darkorange\"}, \n",
    "                scatter_kws={\"color\": '#1f77b4',\"alpha\": 0.2})\n",
    "\n",
    "    plt.subplot(1, 3, 3)\n",
    "    plt.scatter(y_pred, y_true, alpha=0.2)\n",
    "\n",
    "    plt.tight_layout()\n",
    "    plt.show()\n",
    "\n",
    "    # show r2, rmse\n",
    "    r2a, r2b, rmse = calculate_r2_rmse(y_pred, y_true)\n",
    "\n",
    "    print(\"\")\n",
    "    print(\"==================================\")\n",
    "    print(\" - {} R2 (by lin. reg.)  : {:.3f}\".format(method_name, r2a))\n",
    "    print(\" - {} R2 (by sklearn)  : {:.3f}\".format(method_name, r2b))\n",
    "    print(\" - {} RMSE: {:.3f}\".format(method_name, rmse))\n",
    "    print(\"==================================\")\n",
    "\n",
    "    return r2a, r2b, rmse"
   ]
  },
  {
   "cell_type": "code",
   "execution_count": 12,
   "id": "d3e6bfa0",
   "metadata": {},
   "outputs": [],
   "source": [
    "import xgboost as xgb\n",
    "from xgboost import cv\n",
    "my_seed = 42"
   ]
  },
  {
   "cell_type": "markdown",
   "id": "4ec26172",
   "metadata": {},
   "source": [
    "### HYBE"
   ]
  },
  {
   "cell_type": "code",
   "execution_count": 13,
   "id": "6796b8a2",
   "metadata": {},
   "outputs": [],
   "source": [
    "# train, test split\n",
    "\n",
    "# 특정 칼럼 제외한 결과 저장\n",
    "columns_to_exclude = ['종가']  # 제외할 칼럼 이름\n",
    "selected_columns = [col for col in data_HYBE.columns if col not in columns_to_exclude]\n",
    "\n",
    "X = data_HYBE[selected_columns]\n",
    "y = data_HYBE['종가']\n",
    "\n",
    "X_train, X_test, y_train, y_test = train_test_split(X, y, test_size=0.2, random_state=42)\n",
    "X_train, X_valid, y_train, y_valid = train_test_split(X_train, y_train, test_size=0.25, random_state=42)\n"
   ]
  },
  {
   "cell_type": "code",
   "execution_count": 14,
   "id": "d760a6d8",
   "metadata": {},
   "outputs": [
    {
     "data": {
      "text/html": [
       "<div>\n",
       "<style scoped>\n",
       "    .dataframe tbody tr th:only-of-type {\n",
       "        vertical-align: middle;\n",
       "    }\n",
       "\n",
       "    .dataframe tbody tr th {\n",
       "        vertical-align: top;\n",
       "    }\n",
       "\n",
       "    .dataframe thead th {\n",
       "        text-align: right;\n",
       "    }\n",
       "</style>\n",
       "<table border=\"1\" class=\"dataframe\">\n",
       "  <thead>\n",
       "    <tr style=\"text-align: right;\">\n",
       "      <th></th>\n",
       "      <th>views_SVT</th>\n",
       "      <th>count_SVT</th>\n",
       "      <th>npv_SVT</th>\n",
       "      <th>npr_SVT</th>\n",
       "      <th>views_BTS</th>\n",
       "      <th>count_BTS</th>\n",
       "      <th>npv_BTS</th>\n",
       "      <th>npr_BTS</th>\n",
       "      <th>views_LSRF</th>\n",
       "      <th>count_LSRF</th>\n",
       "      <th>...</th>\n",
       "      <th>npv_NJS</th>\n",
       "      <th>npr_NJS</th>\n",
       "      <th>views_EHP</th>\n",
       "      <th>count_EHP</th>\n",
       "      <th>npv_EHP</th>\n",
       "      <th>npr_EHP</th>\n",
       "      <th>views_TXT</th>\n",
       "      <th>count_TXT</th>\n",
       "      <th>npv_TXT</th>\n",
       "      <th>npr_TXT</th>\n",
       "    </tr>\n",
       "  </thead>\n",
       "  <tbody>\n",
       "    <tr>\n",
       "      <th>2022-06-27</th>\n",
       "      <td>2093683.5</td>\n",
       "      <td>1.0</td>\n",
       "      <td>0.037581</td>\n",
       "      <td>50.512785</td>\n",
       "      <td>3201517.0</td>\n",
       "      <td>1.0</td>\n",
       "      <td>0.048581</td>\n",
       "      <td>34.138796</td>\n",
       "      <td>4686174.0</td>\n",
       "      <td>2.0</td>\n",
       "      <td>...</td>\n",
       "      <td>0.026308</td>\n",
       "      <td>42.833750</td>\n",
       "      <td>1486035.0</td>\n",
       "      <td>1.0</td>\n",
       "      <td>0.083620</td>\n",
       "      <td>37.312500</td>\n",
       "      <td>997112.0</td>\n",
       "      <td>1.0</td>\n",
       "      <td>0.084257</td>\n",
       "      <td>43.317040</td>\n",
       "    </tr>\n",
       "    <tr>\n",
       "      <th>2022-06-14</th>\n",
       "      <td>2093683.5</td>\n",
       "      <td>1.0</td>\n",
       "      <td>0.037581</td>\n",
       "      <td>50.512785</td>\n",
       "      <td>3201517.0</td>\n",
       "      <td>1.0</td>\n",
       "      <td>0.048581</td>\n",
       "      <td>34.138796</td>\n",
       "      <td>4686174.0</td>\n",
       "      <td>2.0</td>\n",
       "      <td>...</td>\n",
       "      <td>0.026308</td>\n",
       "      <td>42.833750</td>\n",
       "      <td>2232194.0</td>\n",
       "      <td>1.0</td>\n",
       "      <td>0.138877</td>\n",
       "      <td>22.334294</td>\n",
       "      <td>997112.0</td>\n",
       "      <td>1.0</td>\n",
       "      <td>0.084257</td>\n",
       "      <td>43.317040</td>\n",
       "    </tr>\n",
       "    <tr>\n",
       "      <th>2022-08-31</th>\n",
       "      <td>2093683.5</td>\n",
       "      <td>1.0</td>\n",
       "      <td>0.037581</td>\n",
       "      <td>50.512785</td>\n",
       "      <td>3201517.0</td>\n",
       "      <td>1.0</td>\n",
       "      <td>0.048581</td>\n",
       "      <td>34.138796</td>\n",
       "      <td>4686174.0</td>\n",
       "      <td>2.0</td>\n",
       "      <td>...</td>\n",
       "      <td>0.025807</td>\n",
       "      <td>54.181390</td>\n",
       "      <td>1486035.0</td>\n",
       "      <td>1.0</td>\n",
       "      <td>0.083620</td>\n",
       "      <td>37.312500</td>\n",
       "      <td>5317442.0</td>\n",
       "      <td>1.0</td>\n",
       "      <td>0.086508</td>\n",
       "      <td>8.642718</td>\n",
       "    </tr>\n",
       "    <tr>\n",
       "      <th>2022-12-20</th>\n",
       "      <td>2093683.5</td>\n",
       "      <td>1.0</td>\n",
       "      <td>0.037581</td>\n",
       "      <td>50.512785</td>\n",
       "      <td>3201517.0</td>\n",
       "      <td>1.0</td>\n",
       "      <td>0.048581</td>\n",
       "      <td>34.138796</td>\n",
       "      <td>4686174.0</td>\n",
       "      <td>2.0</td>\n",
       "      <td>...</td>\n",
       "      <td>0.005189</td>\n",
       "      <td>15.209125</td>\n",
       "      <td>819048.0</td>\n",
       "      <td>1.0</td>\n",
       "      <td>0.109884</td>\n",
       "      <td>34.856700</td>\n",
       "      <td>997112.0</td>\n",
       "      <td>1.0</td>\n",
       "      <td>0.084257</td>\n",
       "      <td>43.317040</td>\n",
       "    </tr>\n",
       "    <tr>\n",
       "      <th>2022-11-02</th>\n",
       "      <td>2093683.5</td>\n",
       "      <td>1.0</td>\n",
       "      <td>0.037581</td>\n",
       "      <td>50.512785</td>\n",
       "      <td>3201517.0</td>\n",
       "      <td>1.0</td>\n",
       "      <td>0.048581</td>\n",
       "      <td>34.138796</td>\n",
       "      <td>4686174.0</td>\n",
       "      <td>2.0</td>\n",
       "      <td>...</td>\n",
       "      <td>0.026308</td>\n",
       "      <td>42.833750</td>\n",
       "      <td>1486035.0</td>\n",
       "      <td>1.0</td>\n",
       "      <td>0.083620</td>\n",
       "      <td>37.312500</td>\n",
       "      <td>997112.0</td>\n",
       "      <td>1.0</td>\n",
       "      <td>0.084257</td>\n",
       "      <td>43.317040</td>\n",
       "    </tr>\n",
       "  </tbody>\n",
       "</table>\n",
       "<p>5 rows × 24 columns</p>\n",
       "</div>"
      ],
      "text/plain": [
       "            views_SVT  count_SVT   npv_SVT    npr_SVT  views_BTS  count_BTS  \\\n",
       "2022-06-27  2093683.5        1.0  0.037581  50.512785  3201517.0        1.0   \n",
       "2022-06-14  2093683.5        1.0  0.037581  50.512785  3201517.0        1.0   \n",
       "2022-08-31  2093683.5        1.0  0.037581  50.512785  3201517.0        1.0   \n",
       "2022-12-20  2093683.5        1.0  0.037581  50.512785  3201517.0        1.0   \n",
       "2022-11-02  2093683.5        1.0  0.037581  50.512785  3201517.0        1.0   \n",
       "\n",
       "             npv_BTS    npr_BTS  views_LSRF  count_LSRF  ...   npv_NJS  \\\n",
       "2022-06-27  0.048581  34.138796   4686174.0         2.0  ...  0.026308   \n",
       "2022-06-14  0.048581  34.138796   4686174.0         2.0  ...  0.026308   \n",
       "2022-08-31  0.048581  34.138796   4686174.0         2.0  ...  0.025807   \n",
       "2022-12-20  0.048581  34.138796   4686174.0         2.0  ...  0.005189   \n",
       "2022-11-02  0.048581  34.138796   4686174.0         2.0  ...  0.026308   \n",
       "\n",
       "              npr_NJS  views_EHP  count_EHP   npv_EHP    npr_EHP  views_TXT  \\\n",
       "2022-06-27  42.833750  1486035.0        1.0  0.083620  37.312500   997112.0   \n",
       "2022-06-14  42.833750  2232194.0        1.0  0.138877  22.334294   997112.0   \n",
       "2022-08-31  54.181390  1486035.0        1.0  0.083620  37.312500  5317442.0   \n",
       "2022-12-20  15.209125   819048.0        1.0  0.109884  34.856700   997112.0   \n",
       "2022-11-02  42.833750  1486035.0        1.0  0.083620  37.312500   997112.0   \n",
       "\n",
       "            count_TXT   npv_TXT    npr_TXT  \n",
       "2022-06-27        1.0  0.084257  43.317040  \n",
       "2022-06-14        1.0  0.084257  43.317040  \n",
       "2022-08-31        1.0  0.086508   8.642718  \n",
       "2022-12-20        1.0  0.084257  43.317040  \n",
       "2022-11-02        1.0  0.084257  43.317040  \n",
       "\n",
       "[5 rows x 24 columns]"
      ]
     },
     "execution_count": 14,
     "metadata": {},
     "output_type": "execute_result"
    }
   ],
   "source": [
    "X_train.head()"
   ]
  },
  {
   "cell_type": "code",
   "execution_count": 15,
   "id": "304a1179",
   "metadata": {},
   "outputs": [],
   "source": [
    "from sklearn.preprocessing import StandardScaler\n",
    "\n",
    "# load scaler\n",
    "scaler = StandardScaler()\n",
    "\n",
    "# scale train and valid sets\n",
    "\n",
    "# transform dataframes (take out first column which is label)\n",
    "X_train = pd.DataFrame(scaler.fit_transform(X_train), dtype='float32')\n",
    "X_valid = pd.DataFrame(scaler.transform(X_valid), dtype='float32')"
   ]
  },
  {
   "cell_type": "code",
   "execution_count": 16,
   "id": "aee59f7c",
   "metadata": {},
   "outputs": [
    {
     "data": {
      "text/html": [
       "<div>\n",
       "<style scoped>\n",
       "    .dataframe tbody tr th:only-of-type {\n",
       "        vertical-align: middle;\n",
       "    }\n",
       "\n",
       "    .dataframe tbody tr th {\n",
       "        vertical-align: top;\n",
       "    }\n",
       "\n",
       "    .dataframe thead th {\n",
       "        text-align: right;\n",
       "    }\n",
       "</style>\n",
       "<table border=\"1\" class=\"dataframe\">\n",
       "  <thead>\n",
       "    <tr style=\"text-align: right;\">\n",
       "      <th></th>\n",
       "      <th>0</th>\n",
       "      <th>1</th>\n",
       "      <th>2</th>\n",
       "      <th>3</th>\n",
       "      <th>4</th>\n",
       "      <th>5</th>\n",
       "      <th>6</th>\n",
       "      <th>7</th>\n",
       "      <th>8</th>\n",
       "      <th>9</th>\n",
       "      <th>...</th>\n",
       "      <th>14</th>\n",
       "      <th>15</th>\n",
       "      <th>16</th>\n",
       "      <th>17</th>\n",
       "      <th>18</th>\n",
       "      <th>19</th>\n",
       "      <th>20</th>\n",
       "      <th>21</th>\n",
       "      <th>22</th>\n",
       "      <th>23</th>\n",
       "    </tr>\n",
       "  </thead>\n",
       "  <tbody>\n",
       "    <tr>\n",
       "      <th>0</th>\n",
       "      <td>-0.156294</td>\n",
       "      <td>-0.223493</td>\n",
       "      <td>-0.148891</td>\n",
       "      <td>-0.127585</td>\n",
       "      <td>-0.107993</td>\n",
       "      <td>-0.155606</td>\n",
       "      <td>-0.144768</td>\n",
       "      <td>-0.069095</td>\n",
       "      <td>-0.195671</td>\n",
       "      <td>-0.221618</td>\n",
       "      <td>...</td>\n",
       "      <td>-0.028447</td>\n",
       "      <td>-0.141901</td>\n",
       "      <td>-0.158151</td>\n",
       "      <td>-0.259326</td>\n",
       "      <td>-0.191329</td>\n",
       "      <td>-0.022772</td>\n",
       "      <td>-0.123764</td>\n",
       "      <td>-0.193657</td>\n",
       "      <td>-0.099022</td>\n",
       "      <td>-0.158444</td>\n",
       "    </tr>\n",
       "    <tr>\n",
       "      <th>1</th>\n",
       "      <td>-0.156294</td>\n",
       "      <td>-0.223493</td>\n",
       "      <td>-0.148891</td>\n",
       "      <td>-0.127585</td>\n",
       "      <td>-0.107993</td>\n",
       "      <td>-0.155606</td>\n",
       "      <td>-0.144768</td>\n",
       "      <td>-0.069095</td>\n",
       "      <td>-0.195671</td>\n",
       "      <td>-0.221618</td>\n",
       "      <td>...</td>\n",
       "      <td>-0.028447</td>\n",
       "      <td>-0.141901</td>\n",
       "      <td>0.036133</td>\n",
       "      <td>-0.259326</td>\n",
       "      <td>2.581320</td>\n",
       "      <td>-1.540102</td>\n",
       "      <td>-0.123764</td>\n",
       "      <td>-0.193657</td>\n",
       "      <td>-0.099022</td>\n",
       "      <td>-0.158444</td>\n",
       "    </tr>\n",
       "    <tr>\n",
       "      <th>2</th>\n",
       "      <td>-0.156294</td>\n",
       "      <td>-0.223493</td>\n",
       "      <td>-0.148891</td>\n",
       "      <td>-0.127585</td>\n",
       "      <td>-0.107993</td>\n",
       "      <td>-0.155606</td>\n",
       "      <td>-0.144768</td>\n",
       "      <td>-0.069095</td>\n",
       "      <td>-0.195671</td>\n",
       "      <td>-0.221618</td>\n",
       "      <td>...</td>\n",
       "      <td>-0.076990</td>\n",
       "      <td>0.249201</td>\n",
       "      <td>-0.158151</td>\n",
       "      <td>-0.259326</td>\n",
       "      <td>-0.191329</td>\n",
       "      <td>-0.022772</td>\n",
       "      <td>0.187486</td>\n",
       "      <td>-0.193657</td>\n",
       "      <td>-0.032202</td>\n",
       "      <td>-0.615694</td>\n",
       "    </tr>\n",
       "    <tr>\n",
       "      <th>3</th>\n",
       "      <td>-0.156294</td>\n",
       "      <td>-0.223493</td>\n",
       "      <td>-0.148891</td>\n",
       "      <td>-0.127585</td>\n",
       "      <td>-0.107993</td>\n",
       "      <td>-0.155606</td>\n",
       "      <td>-0.144768</td>\n",
       "      <td>-0.069095</td>\n",
       "      <td>-0.195671</td>\n",
       "      <td>-0.221618</td>\n",
       "      <td>...</td>\n",
       "      <td>-2.075248</td>\n",
       "      <td>-1.093999</td>\n",
       "      <td>-0.331821</td>\n",
       "      <td>-0.259326</td>\n",
       "      <td>1.126513</td>\n",
       "      <td>-0.271551</td>\n",
       "      <td>-0.123764</td>\n",
       "      <td>-0.193657</td>\n",
       "      <td>-0.099022</td>\n",
       "      <td>-0.158444</td>\n",
       "    </tr>\n",
       "    <tr>\n",
       "      <th>4</th>\n",
       "      <td>-0.156294</td>\n",
       "      <td>-0.223493</td>\n",
       "      <td>-0.148891</td>\n",
       "      <td>-0.127585</td>\n",
       "      <td>-0.107993</td>\n",
       "      <td>-0.155606</td>\n",
       "      <td>-0.144768</td>\n",
       "      <td>-0.069095</td>\n",
       "      <td>-0.195671</td>\n",
       "      <td>-0.221618</td>\n",
       "      <td>...</td>\n",
       "      <td>-0.028447</td>\n",
       "      <td>-0.141901</td>\n",
       "      <td>-0.158151</td>\n",
       "      <td>-0.259326</td>\n",
       "      <td>-0.191329</td>\n",
       "      <td>-0.022772</td>\n",
       "      <td>-0.123764</td>\n",
       "      <td>-0.193657</td>\n",
       "      <td>-0.099022</td>\n",
       "      <td>-0.158444</td>\n",
       "    </tr>\n",
       "  </tbody>\n",
       "</table>\n",
       "<p>5 rows × 24 columns</p>\n",
       "</div>"
      ],
      "text/plain": [
       "         0         1         2         3         4         5         6   \\\n",
       "0 -0.156294 -0.223493 -0.148891 -0.127585 -0.107993 -0.155606 -0.144768   \n",
       "1 -0.156294 -0.223493 -0.148891 -0.127585 -0.107993 -0.155606 -0.144768   \n",
       "2 -0.156294 -0.223493 -0.148891 -0.127585 -0.107993 -0.155606 -0.144768   \n",
       "3 -0.156294 -0.223493 -0.148891 -0.127585 -0.107993 -0.155606 -0.144768   \n",
       "4 -0.156294 -0.223493 -0.148891 -0.127585 -0.107993 -0.155606 -0.144768   \n",
       "\n",
       "         7         8         9   ...        14        15        16        17  \\\n",
       "0 -0.069095 -0.195671 -0.221618  ... -0.028447 -0.141901 -0.158151 -0.259326   \n",
       "1 -0.069095 -0.195671 -0.221618  ... -0.028447 -0.141901  0.036133 -0.259326   \n",
       "2 -0.069095 -0.195671 -0.221618  ... -0.076990  0.249201 -0.158151 -0.259326   \n",
       "3 -0.069095 -0.195671 -0.221618  ... -2.075248 -1.093999 -0.331821 -0.259326   \n",
       "4 -0.069095 -0.195671 -0.221618  ... -0.028447 -0.141901 -0.158151 -0.259326   \n",
       "\n",
       "         18        19        20        21        22        23  \n",
       "0 -0.191329 -0.022772 -0.123764 -0.193657 -0.099022 -0.158444  \n",
       "1  2.581320 -1.540102 -0.123764 -0.193657 -0.099022 -0.158444  \n",
       "2 -0.191329 -0.022772  0.187486 -0.193657 -0.032202 -0.615694  \n",
       "3  1.126513 -0.271551 -0.123764 -0.193657 -0.099022 -0.158444  \n",
       "4 -0.191329 -0.022772 -0.123764 -0.193657 -0.099022 -0.158444  \n",
       "\n",
       "[5 rows x 24 columns]"
      ]
     },
     "execution_count": 16,
     "metadata": {},
     "output_type": "execute_result"
    }
   ],
   "source": [
    "X_train.head()"
   ]
  },
  {
   "cell_type": "code",
   "execution_count": 17,
   "id": "536d4951",
   "metadata": {},
   "outputs": [],
   "source": [
    "xgb_regressor = xgb.XGBRegressor(random_state=my_seed, nthread=-1)"
   ]
  },
  {
   "cell_type": "code",
   "execution_count": 18,
   "id": "617d94ee",
   "metadata": {},
   "outputs": [
    {
     "name": "stdout",
     "output_type": "stream",
     "text": [
      "[0]\tvalidation_0-rmse:102262.59105\n",
      "[1]\tvalidation_0-rmse:107414.66430\n",
      "[2]\tvalidation_0-rmse:106361.00762\n",
      "[3]\tvalidation_0-rmse:107120.67331\n",
      "[4]\tvalidation_0-rmse:109126.48544\n",
      "[5]\tvalidation_0-rmse:108928.73334\n",
      "[6]\tvalidation_0-rmse:110355.22958\n",
      "[7]\tvalidation_0-rmse:110922.15409\n",
      "[8]\tvalidation_0-rmse:112107.01127\n",
      "[9]\tvalidation_0-rmse:113537.03980\n",
      "[10]\tvalidation_0-rmse:113688.33713\n",
      "[11]\tvalidation_0-rmse:113208.83878\n",
      "[12]\tvalidation_0-rmse:113128.89916\n",
      "[13]\tvalidation_0-rmse:113910.18612\n",
      "[14]\tvalidation_0-rmse:114469.54439\n",
      "[15]\tvalidation_0-rmse:114414.24331\n",
      "[16]\tvalidation_0-rmse:114443.64572\n",
      "[17]\tvalidation_0-rmse:115311.95727\n"
     ]
    },
    {
     "name": "stderr",
     "output_type": "stream",
     "text": [
      "D:\\Users\\uj200\\anaconda3\\lib\\site-packages\\xgboost\\sklearn.py:835: UserWarning: `early_stopping_rounds` in `fit` method is deprecated for better compatibility with scikit-learn, use `early_stopping_rounds` in constructor or`set_params` instead.\n",
      "  warnings.warn(\n"
     ]
    },
    {
     "name": "stdout",
     "output_type": "stream",
     "text": [
      "[18]\tvalidation_0-rmse:116439.44365\n",
      "[19]\tvalidation_0-rmse:116574.91754\n",
      "Wall time: 395 ms\n"
     ]
    },
    {
     "data": {
      "text/plain": [
       "XGBRegressor(base_score=None, booster=None, callbacks=None,\n",
       "             colsample_bylevel=None, colsample_bynode=None,\n",
       "             colsample_bytree=None, early_stopping_rounds=None,\n",
       "             enable_categorical=False, eval_metric=None, feature_types=None,\n",
       "             gamma=None, gpu_id=None, grow_policy=None, importance_type=None,\n",
       "             interaction_constraints=None, learning_rate=None, max_bin=None,\n",
       "             max_cat_threshold=None, max_cat_to_onehot=None,\n",
       "             max_delta_step=None, max_depth=None, max_leaves=None,\n",
       "             min_child_weight=None, missing=nan, monotone_constraints=None,\n",
       "             n_estimators=100, n_jobs=None, nthread=-1, num_parallel_tree=None,\n",
       "             predictor=None, ...)"
      ]
     },
     "execution_count": 18,
     "metadata": {},
     "output_type": "execute_result"
    }
   ],
   "source": [
    "%%time\n",
    "\n",
    "early_stop_rounds = 20\n",
    "\n",
    "# use early stopping\n",
    "\n",
    "xgb_regressor.fit(X_train, y_train,\n",
    "            eval_set=[(X_valid, y_valid)], early_stopping_rounds=early_stop_rounds)"
   ]
  },
  {
   "cell_type": "code",
   "execution_count": 19,
   "id": "e03b80ab",
   "metadata": {},
   "outputs": [],
   "source": [
    "# validation set의 prediction 진행\n",
    "\n",
    "y_pred_valid = xgb_regressor.predict(X_valid)\n",
    "#y_pred_valid"
   ]
  },
  {
   "cell_type": "code",
   "execution_count": 20,
   "id": "809afd9a",
   "metadata": {},
   "outputs": [
    {
     "name": "stderr",
     "output_type": "stream",
     "text": [
      "D:\\Users\\uj200\\anaconda3\\lib\\site-packages\\statsmodels\\nonparametric\\smoothers_lowess.py:214: RuntimeWarning: invalid value encountered in true_divide\n",
      "  res, _ = _lowess(y, x, x, np.ones_like(x),\n",
      "D:\\Users\\uj200\\anaconda3\\lib\\site-packages\\matplotlib\\backends\\backend_agg.py:240: RuntimeWarning: Glyph 51333 missing from current font.\n",
      "  font.set_text(s, 0.0, flags=flags)\n",
      "D:\\Users\\uj200\\anaconda3\\lib\\site-packages\\matplotlib\\backends\\backend_agg.py:240: RuntimeWarning: Glyph 44032 missing from current font.\n",
      "  font.set_text(s, 0.0, flags=flags)\n",
      "D:\\Users\\uj200\\anaconda3\\lib\\site-packages\\matplotlib\\backends\\backend_agg.py:203: RuntimeWarning: Glyph 51333 missing from current font.\n",
      "  font.set_text(s, 0, flags=flags)\n",
      "D:\\Users\\uj200\\anaconda3\\lib\\site-packages\\matplotlib\\backends\\backend_agg.py:203: RuntimeWarning: Glyph 44032 missing from current font.\n",
      "  font.set_text(s, 0, flags=flags)\n"
     ]
    },
    {
     "data": {
      "image/png": "[encoded data removed]",
      "text/plain": [
       "<Figure size 1260x280 with 3 Axes>"
      ]
     },
     "metadata": {
      "needs_background": "light"
     },
     "output_type": "display_data"
    },
    {
     "name": "stdout",
     "output_type": "stream",
     "text": [
      "\n",
      "==================================\n",
      " - XGboost R2 (by lin. reg.)  : 0.015\n",
      " - XGboost R2 (by sklearn)  : -27.467\n",
      " - XGboost RMSE: 102262.591\n",
      "==================================\n"
     ]
    }
   ],
   "source": [
    "plot_figsize = (18, 4) \n",
    "plot_dpi = 70\n",
    "y_pred = y_pred_valid\n",
    "y_true = y_valid\n",
    "\n",
    "method_name = \"XGboost\"\n",
    "\n",
    "r2a_cnn, r2b_cnn, rmse_cnn = display_kden_scatter(method_name, y_pred, y_true, plot_figsize, plot_dpi)"
   ]
  },
  {
   "cell_type": "markdown",
   "id": "49c393e9",
   "metadata": {},
   "source": [
    "### HYBE Tune XGBoost(hyperparameter)"
   ]
  },
  {
   "cell_type": "code",
   "execution_count": 21,
   "id": "e3215d8b",
   "metadata": {},
   "outputs": [],
   "source": [
    "from sklearn.model_selection import RandomizedSearchCV\n",
    "\n",
    "param_grid = {\n",
    "    \"max_depth\": [3, 4, 5, 6],\n",
    "    \"learning_rate\": [0.01, 0.05, 0.1, 0.15],\n",
    "    \"gamma\": [0, 0.25, 0.5, 0.75, 1],\n",
    "    \"subsample\": [0.4, 0.6, 0.8],\n",
    "    \"colsample_bytree\": [0.25, 0.5, 0.75],\n",
    "    \"n_estimators\": [100, 150, 200, 250, 300]\n",
    "}"
   ]
  },
  {
   "cell_type": "code",
   "execution_count": 22,
   "id": "1647800f",
   "metadata": {},
   "outputs": [
    {
     "name": "stdout",
     "output_type": "stream",
     "text": [
      "Fitting 3 folds for each of 10 candidates, totalling 30 fits\n"
     ]
    },
    {
     "data": {
      "text/plain": [
       "RandomizedSearchCV(cv=3,\n",
       "                   estimator=XGBRegressor(base_score=None, booster=None,\n",
       "                                          callbacks=None,\n",
       "                                          colsample_bylevel=None,\n",
       "                                          colsample_bynode=None,\n",
       "                                          colsample_bytree=None,\n",
       "                                          early_stopping_rounds=None,\n",
       "                                          enable_categorical=False,\n",
       "                                          eval_metric=None, feature_types=None,\n",
       "                                          gamma=None, gpu_id=None,\n",
       "                                          grow_policy=None,\n",
       "                                          importance_type=None,\n",
       "                                          interaction_constraints=None,\n",
       "                                          learning_rate=...\n",
       "                                          num_parallel_tree=None,\n",
       "                                          predictor=None, random_state=None, ...),\n",
       "                   n_jobs=-1,\n",
       "                   param_distributions={'colsample_bytree': [0.25, 0.5, 0.75],\n",
       "                                        'gamma': [0, 0.25, 0.5, 0.75, 1],\n",
       "                                        'learning_rate': [0.01, 0.05, 0.1,\n",
       "                                                          0.15],\n",
       "                                        'max_depth': [3, 4, 5, 6],\n",
       "                                        'n_estimators': [100, 150, 200, 250,\n",
       "                                                         300],\n",
       "                                        'subsample': [0.4, 0.6, 0.8]},\n",
       "                   random_state=42, return_train_score=True,\n",
       "                   scoring='neg_root_mean_squared_error', verbose=1)"
      ]
     },
     "execution_count": 22,
     "metadata": {},
     "output_type": "execute_result"
    }
   ],
   "source": [
    "# xgboost regression 진행\n",
    "xgb_reg = xgb.XGBRegressor()\n",
    "\n",
    "# 그리드 서치 진행\n",
    "search = RandomizedSearchCV(xgb_reg, param_distributions=param_grid, n_jobs=-1, cv=3, verbose=1, \n",
    "                             random_state=my_seed, return_train_score=True,\n",
    "                             scoring=\"neg_root_mean_squared_error\")\n",
    "\n",
    "# Fitting 진행\n",
    "search.fit(X_train, y_train)"
   ]
  },
  {
   "cell_type": "code",
   "execution_count": 23,
   "id": "0f741f46",
   "metadata": {},
   "outputs": [
    {
     "data": {
      "text/plain": [
       "{'subsample': 0.4,\n",
       " 'n_estimators': 250,\n",
       " 'max_depth': 3,\n",
       " 'learning_rate': 0.01,\n",
       " 'gamma': 1,\n",
       " 'colsample_bytree': 0.5}"
      ]
     },
     "execution_count": 23,
     "metadata": {},
     "output_type": "execute_result"
    }
   ],
   "source": [
    "search.best_params_"
   ]
  },
  {
   "cell_type": "code",
   "execution_count": 24,
   "id": "5912e740",
   "metadata": {},
   "outputs": [
    {
     "data": {
      "text/plain": [
       "-112501.34254301724"
      ]
     },
     "execution_count": 24,
     "metadata": {},
     "output_type": "execute_result"
    }
   ],
   "source": [
    "search.best_score_"
   ]
  },
  {
   "cell_type": "code",
   "execution_count": 25,
   "id": "0369b326",
   "metadata": {},
   "outputs": [
    {
     "data": {
      "text/plain": [
       "XGBRegressor(base_score=None, booster=None, callbacks=None,\n",
       "             colsample_bylevel=None, colsample_bynode=None,\n",
       "             colsample_bytree=0.5, early_stopping_rounds=None,\n",
       "             enable_categorical=False, eval_metric=None, feature_types=None,\n",
       "             gamma=1, gpu_id=None, grow_policy=None, importance_type=None,\n",
       "             interaction_constraints=None, learning_rate=0.01, max_bin=None,\n",
       "             max_cat_threshold=None, max_cat_to_onehot=None,\n",
       "             max_delta_step=None, max_depth=3, max_leaves=None,\n",
       "             min_child_weight=None, missing=nan, monotone_constraints=None,\n",
       "             n_estimators=250, n_jobs=None, num_parallel_tree=None,\n",
       "             predictor=None, random_state=None, ...)"
      ]
     },
     "execution_count": 25,
     "metadata": {},
     "output_type": "execute_result"
    }
   ],
   "source": [
    "search.best_estimator_"
   ]
  },
  {
   "cell_type": "code",
   "execution_count": 26,
   "id": "ced7b0ba",
   "metadata": {},
   "outputs": [],
   "source": [
    "xgb_reg_best_estimator = search.best_estimator_"
   ]
  },
  {
   "cell_type": "code",
   "execution_count": 27,
   "id": "1a2bc60b",
   "metadata": {},
   "outputs": [
    {
     "name": "stdout",
     "output_type": "stream",
     "text": [
      "[0]\tvalidation_0-rmse:98523.96997\n",
      "[1]\tvalidation_0-rmse:98465.17710\n",
      "[2]\tvalidation_0-rmse:98423.77878\n",
      "[3]\tvalidation_0-rmse:98430.53578\n",
      "[4]\tvalidation_0-rmse:98381.01003\n",
      "[5]\tvalidation_0-rmse:98348.59343\n",
      "[6]\tvalidation_0-rmse:98498.83205\n",
      "[7]\tvalidation_0-rmse:98590.87653\n",
      "[8]\tvalidation_0-rmse:98865.81743\n",
      "[9]\tvalidation_0-rmse:98842.37167\n",
      "[10]\tvalidation_0-rmse:98808.07466\n",
      "[11]\tvalidation_0-rmse:98894.94464\n",
      "[12]\tvalidation_0-rmse:98941.09218\n",
      "[13]\tvalidation_0-rmse:98957.84306\n",
      "[14]\tvalidation_0-rmse:99040.05110\n",
      "[15]\tvalidation_0-rmse:99159.63361\n",
      "[16]\tvalidation_0-rmse:99120.78307\n",
      "[17]\tvalidation_0-rmse:99131.00183\n",
      "[18]\tvalidation_0-rmse:99157.68560\n",
      "[19]\tvalidation_0-rmse:99109.41832\n",
      "[20]\tvalidation_0-rmse:99070.56445\n",
      "[21]\tvalidation_0-rmse:99077.18474\n",
      "[22]\tvalidation_0-rmse:99107.24703\n",
      "[23]\tvalidation_0-rmse:99114.20882\n"
     ]
    },
    {
     "name": "stderr",
     "output_type": "stream",
     "text": [
      "D:\\Users\\uj200\\anaconda3\\lib\\site-packages\\xgboost\\sklearn.py:835: UserWarning: `early_stopping_rounds` in `fit` method is deprecated for better compatibility with scikit-learn, use `early_stopping_rounds` in constructor or`set_params` instead.\n",
      "  warnings.warn(\n"
     ]
    },
    {
     "name": "stdout",
     "output_type": "stream",
     "text": [
      "[24]\tvalidation_0-rmse:99079.79674\n",
      "[25]\tvalidation_0-rmse:99015.27719\n"
     ]
    },
    {
     "data": {
      "text/plain": [
       "XGBRegressor(base_score=None, booster=None, callbacks=None,\n",
       "             colsample_bylevel=None, colsample_bynode=None,\n",
       "             colsample_bytree=0.5, early_stopping_rounds=None,\n",
       "             enable_categorical=False, eval_metric=None, feature_types=None,\n",
       "             gamma=1, gpu_id=None, grow_policy=None, importance_type=None,\n",
       "             interaction_constraints=None, learning_rate=0.01, max_bin=None,\n",
       "             max_cat_threshold=None, max_cat_to_onehot=None,\n",
       "             max_delta_step=None, max_depth=3, max_leaves=None,\n",
       "             min_child_weight=None, missing=nan, monotone_constraints=None,\n",
       "             n_estimators=250, n_jobs=None, num_parallel_tree=None,\n",
       "             predictor=None, random_state=None, ...)"
      ]
     },
     "execution_count": 27,
     "metadata": {},
     "output_type": "execute_result"
    }
   ],
   "source": [
    "early_stop_rounds = 20\n",
    "\n",
    "# use early stopping\n",
    "\n",
    "xgb_reg_best_estimator.fit(X_train, y_train,\n",
    "            eval_set=[(X_valid, y_valid)], early_stopping_rounds=early_stop_rounds)"
   ]
  },
  {
   "cell_type": "code",
   "execution_count": 28,
   "id": "152b213a",
   "metadata": {},
   "outputs": [],
   "source": [
    "y_pred_valid_tuned = xgb_reg_best_estimator.predict(X_valid)\n",
    "#y_pred_valid_tuned"
   ]
  },
  {
   "cell_type": "code",
   "execution_count": 29,
   "id": "f1c2f53e",
   "metadata": {},
   "outputs": [
    {
     "name": "stderr",
     "output_type": "stream",
     "text": [
      "D:\\Users\\uj200\\anaconda3\\lib\\site-packages\\matplotlib\\backends\\backend_agg.py:240: RuntimeWarning: Glyph 51333 missing from current font.\n",
      "  font.set_text(s, 0.0, flags=flags)\n",
      "D:\\Users\\uj200\\anaconda3\\lib\\site-packages\\matplotlib\\backends\\backend_agg.py:240: RuntimeWarning: Glyph 44032 missing from current font.\n",
      "  font.set_text(s, 0.0, flags=flags)\n",
      "D:\\Users\\uj200\\anaconda3\\lib\\site-packages\\matplotlib\\backends\\backend_agg.py:203: RuntimeWarning: Glyph 51333 missing from current font.\n",
      "  font.set_text(s, 0, flags=flags)\n",
      "D:\\Users\\uj200\\anaconda3\\lib\\site-packages\\matplotlib\\backends\\backend_agg.py:203: RuntimeWarning: Glyph 44032 missing from current font.\n",
      "  font.set_text(s, 0, flags=flags)\n"
     ]
    },
    {
     "data": {
      "image/png": "[encoded data removed]",
      "text/plain": [
       "<Figure size 1260x280 with 3 Axes>"
      ]
     },
     "metadata": {},
     "output_type": "display_data"
    },
    {
     "name": "stdout",
     "output_type": "stream",
     "text": [
      "\n",
      "==================================\n",
      " - XGboost tuned R2 (by lin. reg.)  : 0.018\n",
      " - XGboost tuned R2 (by sklearn)  : -7240.507\n",
      " - XGboost tuned RMSE: 98348.594\n",
      "==================================\n"
     ]
    }
   ],
   "source": [
    "plot_figsize = (18, 4) # width and height in inches\n",
    "plot_dpi = 70\n",
    "y_pred = y_pred_valid_tuned\n",
    "y_true = y_valid\n",
    "\n",
    "method_name = \"XGboost tuned\"\n",
    "\n",
    "r2a_cnn, r2b_cnn, rmse_cnn = display_kden_scatter(method_name, y_pred, y_true, plot_figsize, plot_dpi)"
   ]
  },
  {
   "cell_type": "code",
   "execution_count": 30,
   "id": "0c1d393e",
   "metadata": {},
   "outputs": [
    {
     "name": "stdout",
     "output_type": "stream",
     "text": [
      "[0.05977568 0.06517289 0.05735727 0.03006314 0.06185998 0.1377445\n",
      " 0.04338866 0.07966283 0.0284682  0.00224311 0.02309703 0.01904502\n",
      " 0.03305612 0.03368858 0.02544631 0.0295669  0.02725745 0.01883369\n",
      " 0.02799511 0.00563007 0.04302754 0.04127981 0.05082786 0.05551228]\n"
     ]
    }
   ],
   "source": [
    "# feature importance\n",
    "print(xgb_reg_best_estimator.feature_importances_)"
   ]
  },
  {
   "cell_type": "code",
   "execution_count": 31,
   "id": "de6895a4",
   "metadata": {},
   "outputs": [
    {
     "data": {
      "image/png": "[encoded data removed]",
      "text/plain": [
       "<Figure size 432x288 with 1 Axes>"
      ]
     },
     "metadata": {},
     "output_type": "display_data"
    }
   ],
   "source": [
    "from matplotlib import pyplot\n",
    "# plot\n",
    "pyplot.bar(range(len(xgb_reg_best_estimator.feature_importances_)), xgb_reg_best_estimator.feature_importances_)\n",
    "pyplot.show();"
   ]
  },
  {
   "cell_type": "code",
   "execution_count": null,
   "id": "fae47dc9",
   "metadata": {},
   "outputs": [],
   "source": []
  },
  {
   "cell_type": "markdown",
   "id": "ff16ac37",
   "metadata": {},
   "source": [
    "### YG"
   ]
  },
  {
   "cell_type": "code",
   "execution_count": 32,
   "id": "b5b6a9c3",
   "metadata": {},
   "outputs": [],
   "source": [
    "# train, test split\n",
    "\n",
    "# 특정 칼럼 제외한 결과 저장\n",
    "columns_to_exclude = ['종가']  # 제외할 칼럼 이름\n",
    "selected_columns = [col for col in data_YG.columns if col not in columns_to_exclude]\n",
    "\n",
    "X = data_YG[selected_columns]\n",
    "y = data_YG['종가']\n",
    "\n",
    "X_train, X_test, y_train, y_test = train_test_split(X, y, test_size=0.2, random_state=42)\n",
    "X_train, X_valid, y_train, y_valid = train_test_split(X_train, y_train, test_size=0.25, random_state=42)\n"
   ]
  },
  {
   "cell_type": "code",
   "execution_count": 33,
   "id": "32a84058",
   "metadata": {},
   "outputs": [
    {
     "data": {
      "text/html": [
       "<div>\n",
       "<style scoped>\n",
       "    .dataframe tbody tr th:only-of-type {\n",
       "        vertical-align: middle;\n",
       "    }\n",
       "\n",
       "    .dataframe tbody tr th {\n",
       "        vertical-align: top;\n",
       "    }\n",
       "\n",
       "    .dataframe thead th {\n",
       "        text-align: right;\n",
       "    }\n",
       "</style>\n",
       "<table border=\"1\" class=\"dataframe\">\n",
       "  <thead>\n",
       "    <tr style=\"text-align: right;\">\n",
       "      <th></th>\n",
       "      <th>views_BB</th>\n",
       "      <th>count_BB</th>\n",
       "      <th>npv_BB</th>\n",
       "      <th>npr_BB</th>\n",
       "      <th>views_BLPK</th>\n",
       "      <th>count_BLPK</th>\n",
       "      <th>npv_BLPK</th>\n",
       "      <th>npr_BLPK</th>\n",
       "      <th>views_WN</th>\n",
       "      <th>count_WN</th>\n",
       "      <th>npv_WN</th>\n",
       "      <th>npr_WN</th>\n",
       "    </tr>\n",
       "  </thead>\n",
       "  <tbody>\n",
       "    <tr>\n",
       "      <th>count</th>\n",
       "      <td>1.800000e+02</td>\n",
       "      <td>180.000000</td>\n",
       "      <td>180.000000</td>\n",
       "      <td>180.000000</td>\n",
       "      <td>1.800000e+02</td>\n",
       "      <td>180.000000</td>\n",
       "      <td>180.000000</td>\n",
       "      <td>180.000000</td>\n",
       "      <td>1.800000e+02</td>\n",
       "      <td>180.000000</td>\n",
       "      <td>180.000000</td>\n",
       "      <td>180.000000</td>\n",
       "    </tr>\n",
       "    <tr>\n",
       "      <th>mean</th>\n",
       "      <td>3.946938e+05</td>\n",
       "      <td>1.027778</td>\n",
       "      <td>0.013736</td>\n",
       "      <td>27.107119</td>\n",
       "      <td>8.915825e+06</td>\n",
       "      <td>1.211111</td>\n",
       "      <td>0.026984</td>\n",
       "      <td>37.285033</td>\n",
       "      <td>3.651042e+05</td>\n",
       "      <td>1.188889</td>\n",
       "      <td>0.032436</td>\n",
       "      <td>23.692483</td>\n",
       "    </tr>\n",
       "    <tr>\n",
       "      <th>std</th>\n",
       "      <td>6.850848e+05</td>\n",
       "      <td>0.195781</td>\n",
       "      <td>0.006749</td>\n",
       "      <td>50.954529</td>\n",
       "      <td>5.616829e+07</td>\n",
       "      <td>0.732249</td>\n",
       "      <td>0.016584</td>\n",
       "      <td>24.207505</td>\n",
       "      <td>1.939541e+06</td>\n",
       "      <td>1.102505</td>\n",
       "      <td>0.018450</td>\n",
       "      <td>14.207889</td>\n",
       "    </tr>\n",
       "    <tr>\n",
       "      <th>min</th>\n",
       "      <td>1.415900e+04</td>\n",
       "      <td>1.000000</td>\n",
       "      <td>0.002116</td>\n",
       "      <td>1.300000</td>\n",
       "      <td>1.185000e+04</td>\n",
       "      <td>1.000000</td>\n",
       "      <td>0.002955</td>\n",
       "      <td>4.425321</td>\n",
       "      <td>1.070800e+04</td>\n",
       "      <td>1.000000</td>\n",
       "      <td>0.002150</td>\n",
       "      <td>0.829333</td>\n",
       "    </tr>\n",
       "    <tr>\n",
       "      <th>25%</th>\n",
       "      <td>2.968640e+05</td>\n",
       "      <td>1.000000</td>\n",
       "      <td>0.013084</td>\n",
       "      <td>19.685714</td>\n",
       "      <td>2.084487e+06</td>\n",
       "      <td>1.000000</td>\n",
       "      <td>0.023517</td>\n",
       "      <td>33.515882</td>\n",
       "      <td>1.687860e+05</td>\n",
       "      <td>1.000000</td>\n",
       "      <td>0.030093</td>\n",
       "      <td>21.834061</td>\n",
       "    </tr>\n",
       "    <tr>\n",
       "      <th>50%</th>\n",
       "      <td>2.968640e+05</td>\n",
       "      <td>1.000000</td>\n",
       "      <td>0.013084</td>\n",
       "      <td>19.685714</td>\n",
       "      <td>2.084487e+06</td>\n",
       "      <td>1.000000</td>\n",
       "      <td>0.023517</td>\n",
       "      <td>33.515882</td>\n",
       "      <td>1.687860e+05</td>\n",
       "      <td>1.000000</td>\n",
       "      <td>0.030093</td>\n",
       "      <td>21.834061</td>\n",
       "    </tr>\n",
       "    <tr>\n",
       "      <th>75%</th>\n",
       "      <td>2.968640e+05</td>\n",
       "      <td>1.000000</td>\n",
       "      <td>0.013084</td>\n",
       "      <td>19.685714</td>\n",
       "      <td>2.084487e+06</td>\n",
       "      <td>1.000000</td>\n",
       "      <td>0.023517</td>\n",
       "      <td>33.515882</td>\n",
       "      <td>1.687860e+05</td>\n",
       "      <td>1.000000</td>\n",
       "      <td>0.030093</td>\n",
       "      <td>21.834061</td>\n",
       "    </tr>\n",
       "    <tr>\n",
       "      <th>max</th>\n",
       "      <td>8.487274e+06</td>\n",
       "      <td>3.000000</td>\n",
       "      <td>0.080891</td>\n",
       "      <td>623.000000</td>\n",
       "      <td>6.834001e+08</td>\n",
       "      <td>5.000000</td>\n",
       "      <td>0.134767</td>\n",
       "      <td>230.188679</td>\n",
       "      <td>2.592011e+07</td>\n",
       "      <td>14.000000</td>\n",
       "      <td>0.161695</td>\n",
       "      <td>130.769231</td>\n",
       "    </tr>\n",
       "  </tbody>\n",
       "</table>\n",
       "</div>"
      ],
      "text/plain": [
       "           views_BB    count_BB      npv_BB      npr_BB    views_BLPK  \\\n",
       "count  1.800000e+02  180.000000  180.000000  180.000000  1.800000e+02   \n",
       "mean   3.946938e+05    1.027778    0.013736   27.107119  8.915825e+06   \n",
       "std    6.850848e+05    0.195781    0.006749   50.954529  5.616829e+07   \n",
       "min    1.415900e+04    1.000000    0.002116    1.300000  1.185000e+04   \n",
       "25%    2.968640e+05    1.000000    0.013084   19.685714  2.084487e+06   \n",
       "50%    2.968640e+05    1.000000    0.013084   19.685714  2.084487e+06   \n",
       "75%    2.968640e+05    1.000000    0.013084   19.685714  2.084487e+06   \n",
       "max    8.487274e+06    3.000000    0.080891  623.000000  6.834001e+08   \n",
       "\n",
       "       count_BLPK    npv_BLPK    npr_BLPK      views_WN    count_WN  \\\n",
       "count  180.000000  180.000000  180.000000  1.800000e+02  180.000000   \n",
       "mean     1.211111    0.026984   37.285033  3.651042e+05    1.188889   \n",
       "std      0.732249    0.016584   24.207505  1.939541e+06    1.102505   \n",
       "min      1.000000    0.002955    4.425321  1.070800e+04    1.000000   \n",
       "25%      1.000000    0.023517   33.515882  1.687860e+05    1.000000   \n",
       "50%      1.000000    0.023517   33.515882  1.687860e+05    1.000000   \n",
       "75%      1.000000    0.023517   33.515882  1.687860e+05    1.000000   \n",
       "max      5.000000    0.134767  230.188679  2.592011e+07   14.000000   \n",
       "\n",
       "           npv_WN      npr_WN  \n",
       "count  180.000000  180.000000  \n",
       "mean     0.032436   23.692483  \n",
       "std      0.018450   14.207889  \n",
       "min      0.002150    0.829333  \n",
       "25%      0.030093   21.834061  \n",
       "50%      0.030093   21.834061  \n",
       "75%      0.030093   21.834061  \n",
       "max      0.161695  130.769231  "
      ]
     },
     "execution_count": 33,
     "metadata": {},
     "output_type": "execute_result"
    }
   ],
   "source": [
    "X_train.describe()"
   ]
  },
  {
   "cell_type": "code",
   "execution_count": 34,
   "id": "8da3bf58",
   "metadata": {},
   "outputs": [],
   "source": [
    "from sklearn.preprocessing import StandardScaler\n",
    "\n",
    "# load scaler\n",
    "scaler = StandardScaler()\n",
    "\n",
    "# scale train and valid sets\n",
    "\n",
    "# transform dataframes (take out first column which is label)\n",
    "X_train = pd.DataFrame(scaler.fit_transform(X_train), dtype='float32')\n",
    "X_valid = pd.DataFrame(scaler.transform(X_valid), dtype='float32')"
   ]
  },
  {
   "cell_type": "code",
   "execution_count": 35,
   "id": "905fc0a4",
   "metadata": {},
   "outputs": [
    {
     "data": {
      "text/html": [
       "<div>\n",
       "<style scoped>\n",
       "    .dataframe tbody tr th:only-of-type {\n",
       "        vertical-align: middle;\n",
       "    }\n",
       "\n",
       "    .dataframe tbody tr th {\n",
       "        vertical-align: top;\n",
       "    }\n",
       "\n",
       "    .dataframe thead th {\n",
       "        text-align: right;\n",
       "    }\n",
       "</style>\n",
       "<table border=\"1\" class=\"dataframe\">\n",
       "  <thead>\n",
       "    <tr style=\"text-align: right;\">\n",
       "      <th></th>\n",
       "      <th>0</th>\n",
       "      <th>1</th>\n",
       "      <th>2</th>\n",
       "      <th>3</th>\n",
       "      <th>4</th>\n",
       "      <th>5</th>\n",
       "      <th>6</th>\n",
       "      <th>7</th>\n",
       "      <th>8</th>\n",
       "      <th>9</th>\n",
       "      <th>10</th>\n",
       "      <th>11</th>\n",
       "    </tr>\n",
       "  </thead>\n",
       "  <tbody>\n",
       "    <tr>\n",
       "      <th>0</th>\n",
       "      <td>-0.143198</td>\n",
       "      <td>-0.142278</td>\n",
       "      <td>-0.096844</td>\n",
       "      <td>-0.146054</td>\n",
       "      <td>-0.121962</td>\n",
       "      <td>-0.289109</td>\n",
       "      <td>-0.209619</td>\n",
       "      <td>-0.156136</td>\n",
       "      <td>-0.181418</td>\n",
       "      <td>-0.171805</td>\n",
       "      <td>-0.914087</td>\n",
       "      <td>1.461532</td>\n",
       "    </tr>\n",
       "    <tr>\n",
       "      <th>1</th>\n",
       "      <td>-0.143198</td>\n",
       "      <td>-0.142278</td>\n",
       "      <td>-0.096844</td>\n",
       "      <td>-0.146054</td>\n",
       "      <td>-0.121962</td>\n",
       "      <td>-0.289109</td>\n",
       "      <td>-0.209619</td>\n",
       "      <td>-0.156136</td>\n",
       "      <td>-0.101501</td>\n",
       "      <td>-0.171805</td>\n",
       "      <td>-0.127298</td>\n",
       "      <td>-0.131167</td>\n",
       "    </tr>\n",
       "    <tr>\n",
       "      <th>2</th>\n",
       "      <td>-0.143198</td>\n",
       "      <td>-0.142278</td>\n",
       "      <td>-0.096844</td>\n",
       "      <td>-0.146054</td>\n",
       "      <td>-0.121962</td>\n",
       "      <td>-0.289109</td>\n",
       "      <td>-0.209619</td>\n",
       "      <td>-0.156136</td>\n",
       "      <td>-0.101501</td>\n",
       "      <td>-0.171805</td>\n",
       "      <td>-0.127298</td>\n",
       "      <td>-0.131167</td>\n",
       "    </tr>\n",
       "    <tr>\n",
       "      <th>3</th>\n",
       "      <td>-0.143198</td>\n",
       "      <td>-0.142278</td>\n",
       "      <td>-0.096844</td>\n",
       "      <td>-0.146054</td>\n",
       "      <td>-0.121962</td>\n",
       "      <td>-0.289109</td>\n",
       "      <td>-0.209619</td>\n",
       "      <td>-0.156136</td>\n",
       "      <td>-0.101501</td>\n",
       "      <td>-0.171805</td>\n",
       "      <td>-0.127298</td>\n",
       "      <td>-0.131167</td>\n",
       "    </tr>\n",
       "    <tr>\n",
       "      <th>4</th>\n",
       "      <td>-0.143198</td>\n",
       "      <td>-0.142278</td>\n",
       "      <td>-0.096844</td>\n",
       "      <td>-0.146054</td>\n",
       "      <td>-0.121962</td>\n",
       "      <td>-0.289109</td>\n",
       "      <td>-0.209619</td>\n",
       "      <td>-0.156136</td>\n",
       "      <td>-0.101501</td>\n",
       "      <td>-0.171805</td>\n",
       "      <td>-0.127298</td>\n",
       "      <td>-0.131167</td>\n",
       "    </tr>\n",
       "  </tbody>\n",
       "</table>\n",
       "</div>"
      ],
      "text/plain": [
       "         0         1         2         3         4         5         6   \\\n",
       "0 -0.143198 -0.142278 -0.096844 -0.146054 -0.121962 -0.289109 -0.209619   \n",
       "1 -0.143198 -0.142278 -0.096844 -0.146054 -0.121962 -0.289109 -0.209619   \n",
       "2 -0.143198 -0.142278 -0.096844 -0.146054 -0.121962 -0.289109 -0.209619   \n",
       "3 -0.143198 -0.142278 -0.096844 -0.146054 -0.121962 -0.289109 -0.209619   \n",
       "4 -0.143198 -0.142278 -0.096844 -0.146054 -0.121962 -0.289109 -0.209619   \n",
       "\n",
       "         7         8         9         10        11  \n",
       "0 -0.156136 -0.181418 -0.171805 -0.914087  1.461532  \n",
       "1 -0.156136 -0.101501 -0.171805 -0.127298 -0.131167  \n",
       "2 -0.156136 -0.101501 -0.171805 -0.127298 -0.131167  \n",
       "3 -0.156136 -0.101501 -0.171805 -0.127298 -0.131167  \n",
       "4 -0.156136 -0.101501 -0.171805 -0.127298 -0.131167  "
      ]
     },
     "execution_count": 35,
     "metadata": {},
     "output_type": "execute_result"
    }
   ],
   "source": [
    "X_train.head()"
   ]
  },
  {
   "cell_type": "code",
   "execution_count": 36,
   "id": "1e3ed7a7",
   "metadata": {},
   "outputs": [],
   "source": [
    "xgb_regressor = xgb.XGBRegressor(random_state=my_seed, nthread=-1)"
   ]
  },
  {
   "cell_type": "code",
   "execution_count": 37,
   "id": "592defa6",
   "metadata": {},
   "outputs": [
    {
     "name": "stdout",
     "output_type": "stream",
     "text": [
      "[0]\tvalidation_0-rmse:4201.92521\n",
      "[1]\tvalidation_0-rmse:4442.62819\n",
      "[2]\tvalidation_0-rmse:4806.68951\n",
      "[3]\tvalidation_0-rmse:4938.81218\n",
      "[4]\tvalidation_0-rmse:4932.24476\n",
      "[5]\tvalidation_0-rmse:5123.30793\n",
      "[6]\tvalidation_0-rmse:5145.22432\n",
      "[7]\tvalidation_0-rmse:5163.57164\n",
      "[8]\tvalidation_0-rmse:5181.45515\n",
      "[9]\tvalidation_0-rmse:5179.87400\n",
      "[10]\tvalidation_0-rmse:5183.40488\n",
      "[11]\tvalidation_0-rmse:5199.59817\n",
      "[12]\tvalidation_0-rmse:5197.29796\n",
      "[13]\tvalidation_0-rmse:5224.82870\n",
      "[14]\tvalidation_0-rmse:5244.91091\n",
      "[15]\tvalidation_0-rmse:5220.02713\n",
      "[16]\tvalidation_0-rmse:5251.99126\n",
      "[17]\tvalidation_0-rmse:5263.40903\n",
      "[18]\tvalidation_0-rmse:5255.84670\n",
      "[19]\tvalidation_0-rmse:5236.73943\n",
      "[20]\tvalidation_0-rmse:5251.36336\n",
      "Wall time: 113 ms\n"
     ]
    },
    {
     "name": "stderr",
     "output_type": "stream",
     "text": [
      "D:\\Users\\uj200\\anaconda3\\lib\\site-packages\\xgboost\\sklearn.py:835: UserWarning: `early_stopping_rounds` in `fit` method is deprecated for better compatibility with scikit-learn, use `early_stopping_rounds` in constructor or`set_params` instead.\n",
      "  warnings.warn(\n"
     ]
    },
    {
     "data": {
      "text/plain": [
       "XGBRegressor(base_score=None, booster=None, callbacks=None,\n",
       "             colsample_bylevel=None, colsample_bynode=None,\n",
       "             colsample_bytree=None, early_stopping_rounds=None,\n",
       "             enable_categorical=False, eval_metric=None, feature_types=None,\n",
       "             gamma=None, gpu_id=None, grow_policy=None, importance_type=None,\n",
       "             interaction_constraints=None, learning_rate=None, max_bin=None,\n",
       "             max_cat_threshold=None, max_cat_to_onehot=None,\n",
       "             max_delta_step=None, max_depth=None, max_leaves=None,\n",
       "             min_child_weight=None, missing=nan, monotone_constraints=None,\n",
       "             n_estimators=100, n_jobs=None, nthread=-1, num_parallel_tree=None,\n",
       "             predictor=None, ...)"
      ]
     },
     "execution_count": 37,
     "metadata": {},
     "output_type": "execute_result"
    }
   ],
   "source": [
    "%%time\n",
    "\n",
    "early_stop_rounds = 20\n",
    "\n",
    "# use early stopping\n",
    "\n",
    "xgb_regressor.fit(X_train, y_train,\n",
    "            eval_set=[(X_valid, y_valid)], early_stopping_rounds=early_stop_rounds)"
   ]
  },
  {
   "cell_type": "code",
   "execution_count": 38,
   "id": "4e4b2812",
   "metadata": {},
   "outputs": [],
   "source": [
    "# get validation set prediction results\n",
    "\n",
    "y_pred_valid = xgb_regressor.predict(X_valid)\n",
    "#y_pred_valid"
   ]
  },
  {
   "cell_type": "code",
   "execution_count": 39,
   "id": "cd42539d",
   "metadata": {},
   "outputs": [
    {
     "name": "stderr",
     "output_type": "stream",
     "text": [
      "D:\\Users\\uj200\\anaconda3\\lib\\site-packages\\matplotlib\\backends\\backend_agg.py:240: RuntimeWarning: Glyph 51333 missing from current font.\n",
      "  font.set_text(s, 0.0, flags=flags)\n",
      "D:\\Users\\uj200\\anaconda3\\lib\\site-packages\\matplotlib\\backends\\backend_agg.py:240: RuntimeWarning: Glyph 44032 missing from current font.\n",
      "  font.set_text(s, 0.0, flags=flags)\n",
      "D:\\Users\\uj200\\anaconda3\\lib\\site-packages\\matplotlib\\backends\\backend_agg.py:203: RuntimeWarning: Glyph 51333 missing from current font.\n",
      "  font.set_text(s, 0, flags=flags)\n",
      "D:\\Users\\uj200\\anaconda3\\lib\\site-packages\\matplotlib\\backends\\backend_agg.py:203: RuntimeWarning: Glyph 44032 missing from current font.\n",
      "  font.set_text(s, 0, flags=flags)\n"
     ]
    },
    {
     "data": {
      "image/png": "[encoded data removed]",
      "text/plain": [
       "<Figure size 1260x280 with 3 Axes>"
      ]
     },
     "metadata": {},
     "output_type": "display_data"
    },
    {
     "name": "stdout",
     "output_type": "stream",
     "text": [
      "\n",
      "==================================\n",
      " - XGboost R2 (by lin. reg.)  : 0.002\n",
      " - XGboost R2 (by sklearn)  : -31.479\n",
      " - XGboost RMSE: 4201.925\n",
      "==================================\n"
     ]
    }
   ],
   "source": [
    "plot_figsize = (18, 4) # width and height in inches\n",
    "plot_dpi = 70\n",
    "y_pred = y_pred_valid\n",
    "y_true = y_valid\n",
    "\n",
    "method_name = \"XGboost\"\n",
    "\n",
    "r2a_cnn, r2b_cnn, rmse_cnn = display_kden_scatter(method_name, y_pred, y_true, plot_figsize, plot_dpi)"
   ]
  },
  {
   "cell_type": "markdown",
   "id": "b24f2b94",
   "metadata": {},
   "source": [
    "### YG_Tune XGBoost(hyperparameter)"
   ]
  },
  {
   "cell_type": "code",
   "execution_count": 40,
   "id": "c22566f8",
   "metadata": {},
   "outputs": [],
   "source": [
    "from sklearn.model_selection import RandomizedSearchCV\n",
    "\n",
    "param_grid = {\n",
    "    \"max_depth\": [3, 4, 5, 6],\n",
    "    \"learning_rate\": [0.01, 0.05, 0.1, 0.15],\n",
    "    \"gamma\": [0, 0.25, 0.5, 0.75, 1],\n",
    "    \"subsample\": [0.4, 0.6, 0.8],\n",
    "    \"colsample_bytree\": [0.25, 0.5, 0.75],\n",
    "    \"n_estimators\": [100, 150, 200, 250, 300]\n",
    "}"
   ]
  },
  {
   "cell_type": "code",
   "execution_count": 41,
   "id": "1688889b",
   "metadata": {},
   "outputs": [
    {
     "name": "stdout",
     "output_type": "stream",
     "text": [
      "Fitting 3 folds for each of 10 candidates, totalling 30 fits\n"
     ]
    },
    {
     "data": {
      "text/plain": [
       "RandomizedSearchCV(cv=3,\n",
       "                   estimator=XGBRegressor(base_score=None, booster=None,\n",
       "                                          callbacks=None,\n",
       "                                          colsample_bylevel=None,\n",
       "                                          colsample_bynode=None,\n",
       "                                          colsample_bytree=None,\n",
       "                                          early_stopping_rounds=None,\n",
       "                                          enable_categorical=False,\n",
       "                                          eval_metric=None, feature_types=None,\n",
       "                                          gamma=None, gpu_id=None,\n",
       "                                          grow_policy=None,\n",
       "                                          importance_type=None,\n",
       "                                          interaction_constraints=None,\n",
       "                                          learning_rate=...\n",
       "                                          num_parallel_tree=None,\n",
       "                                          predictor=None, random_state=None, ...),\n",
       "                   n_jobs=-1,\n",
       "                   param_distributions={'colsample_bytree': [0.25, 0.5, 0.75],\n",
       "                                        'gamma': [0, 0.25, 0.5, 0.75, 1],\n",
       "                                        'learning_rate': [0.01, 0.05, 0.1,\n",
       "                                                          0.15],\n",
       "                                        'max_depth': [3, 4, 5, 6],\n",
       "                                        'n_estimators': [100, 150, 200, 250,\n",
       "                                                         300],\n",
       "                                        'subsample': [0.4, 0.6, 0.8]},\n",
       "                   random_state=42, return_train_score=True,\n",
       "                   scoring='neg_root_mean_squared_error', verbose=1)"
      ]
     },
     "execution_count": 41,
     "metadata": {},
     "output_type": "execute_result"
    }
   ],
   "source": [
    "# Init classifier\n",
    "xgb_reg = xgb.XGBRegressor()\n",
    "\n",
    "# Init Grid Search\n",
    "search = RandomizedSearchCV(xgb_reg, param_distributions=param_grid, n_jobs=-1, cv=3, verbose=1, \n",
    "                             random_state=my_seed, return_train_score=True,\n",
    "                             scoring=\"neg_root_mean_squared_error\")\n",
    "\n",
    "# Fit\n",
    "search.fit(X_train, y_train)"
   ]
  },
  {
   "cell_type": "code",
   "execution_count": 42,
   "id": "09d5933b",
   "metadata": {},
   "outputs": [
    {
     "data": {
      "text/plain": [
       "{'subsample': 0.4,\n",
       " 'n_estimators': 250,\n",
       " 'max_depth': 6,\n",
       " 'learning_rate': 0.01,\n",
       " 'gamma': 0.75,\n",
       " 'colsample_bytree': 0.75}"
      ]
     },
     "execution_count": 42,
     "metadata": {},
     "output_type": "execute_result"
    }
   ],
   "source": [
    "search.best_params_"
   ]
  },
  {
   "cell_type": "code",
   "execution_count": 43,
   "id": "284211e9",
   "metadata": {},
   "outputs": [
    {
     "data": {
      "text/plain": [
       "-4358.511339026851"
      ]
     },
     "execution_count": 43,
     "metadata": {},
     "output_type": "execute_result"
    }
   ],
   "source": [
    "search.best_score_"
   ]
  },
  {
   "cell_type": "code",
   "execution_count": 44,
   "id": "f701dfa5",
   "metadata": {},
   "outputs": [
    {
     "data": {
      "text/plain": [
       "XGBRegressor(base_score=None, booster=None, callbacks=None,\n",
       "             colsample_bylevel=None, colsample_bynode=None,\n",
       "             colsample_bytree=0.75, early_stopping_rounds=None,\n",
       "             enable_categorical=False, eval_metric=None, feature_types=None,\n",
       "             gamma=0.75, gpu_id=None, grow_policy=None, importance_type=None,\n",
       "             interaction_constraints=None, learning_rate=0.01, max_bin=None,\n",
       "             max_cat_threshold=None, max_cat_to_onehot=None,\n",
       "             max_delta_step=None, max_depth=6, max_leaves=None,\n",
       "             min_child_weight=None, missing=nan, monotone_constraints=None,\n",
       "             n_estimators=250, n_jobs=None, num_parallel_tree=None,\n",
       "             predictor=None, random_state=None, ...)"
      ]
     },
     "execution_count": 44,
     "metadata": {},
     "output_type": "execute_result"
    }
   ],
   "source": [
    "search.best_estimator_"
   ]
  },
  {
   "cell_type": "code",
   "execution_count": 45,
   "id": "cd35eee4",
   "metadata": {},
   "outputs": [],
   "source": [
    "xgb_reg_best_estimator = search.best_estimator_"
   ]
  },
  {
   "cell_type": "code",
   "execution_count": 46,
   "id": "50707e1c",
   "metadata": {},
   "outputs": [
    {
     "name": "stdout",
     "output_type": "stream",
     "text": [
      "[0]\tvalidation_0-rmse:4164.05909\n",
      "[1]\tvalidation_0-rmse:4161.68742\n",
      "[2]\tvalidation_0-rmse:4164.59251\n",
      "[3]\tvalidation_0-rmse:4161.81541\n",
      "[4]\tvalidation_0-rmse:4160.48687\n",
      "[5]\tvalidation_0-rmse:4162.62527\n",
      "[6]\tvalidation_0-rmse:4162.57797\n",
      "[7]\tvalidation_0-rmse:4165.09604\n",
      "[8]\tvalidation_0-rmse:4163.12035\n",
      "[9]\tvalidation_0-rmse:4162.78185\n",
      "[10]\tvalidation_0-rmse:4164.20656\n",
      "[11]\tvalidation_0-rmse:4157.53167\n",
      "[12]\tvalidation_0-rmse:4161.85234\n",
      "[13]\tvalidation_0-rmse:4158.64226\n",
      "[14]\tvalidation_0-rmse:4159.43565\n",
      "[15]\tvalidation_0-rmse:4161.35882\n",
      "[16]\tvalidation_0-rmse:4162.07615\n",
      "[17]\tvalidation_0-rmse:4160.32846\n",
      "[18]\tvalidation_0-rmse:4160.43190\n",
      "[19]\tvalidation_0-rmse:4162.11892\n",
      "[20]\tvalidation_0-rmse:4162.60618\n",
      "[21]\tvalidation_0-rmse:4161.57233\n",
      "[22]\tvalidation_0-rmse:4162.19012\n",
      "[23]\tvalidation_0-rmse:4160.43800\n",
      "[24]\tvalidation_0-rmse:4159.09762\n",
      "[25]\tvalidation_0-rmse:4160.41311\n",
      "[26]\tvalidation_0-rmse:4160.44443\n",
      "[27]\tvalidation_0-rmse:4161.78022\n",
      "[28]\tvalidation_0-rmse:4161.98394\n",
      "[29]\tvalidation_0-rmse:4161.60290\n",
      "[30]\tvalidation_0-rmse:4161.17972\n"
     ]
    },
    {
     "name": "stderr",
     "output_type": "stream",
     "text": [
      "D:\\Users\\uj200\\anaconda3\\lib\\site-packages\\xgboost\\sklearn.py:835: UserWarning: `early_stopping_rounds` in `fit` method is deprecated for better compatibility with scikit-learn, use `early_stopping_rounds` in constructor or`set_params` instead.\n",
      "  warnings.warn(\n"
     ]
    },
    {
     "data": {
      "text/plain": [
       "XGBRegressor(base_score=None, booster=None, callbacks=None,\n",
       "             colsample_bylevel=None, colsample_bynode=None,\n",
       "             colsample_bytree=0.75, early_stopping_rounds=None,\n",
       "             enable_categorical=False, eval_metric=None, feature_types=None,\n",
       "             gamma=0.75, gpu_id=None, grow_policy=None, importance_type=None,\n",
       "             interaction_constraints=None, learning_rate=0.01, max_bin=None,\n",
       "             max_cat_threshold=None, max_cat_to_onehot=None,\n",
       "             max_delta_step=None, max_depth=6, max_leaves=None,\n",
       "             min_child_weight=None, missing=nan, monotone_constraints=None,\n",
       "             n_estimators=250, n_jobs=None, num_parallel_tree=None,\n",
       "             predictor=None, random_state=None, ...)"
      ]
     },
     "execution_count": 46,
     "metadata": {},
     "output_type": "execute_result"
    }
   ],
   "source": [
    "early_stop_rounds = 20\n",
    "\n",
    "# use early stopping\n",
    "\n",
    "xgb_reg_best_estimator.fit(X_train, y_train,\n",
    "            eval_set=[(X_valid, y_valid)], early_stopping_rounds=early_stop_rounds)"
   ]
  },
  {
   "cell_type": "code",
   "execution_count": 47,
   "id": "a0d56286",
   "metadata": {},
   "outputs": [],
   "source": [
    "y_pred_valid_tuned = xgb_reg_best_estimator.predict(X_valid)\n",
    "#y_pred_valid_tuned"
   ]
  },
  {
   "cell_type": "code",
   "execution_count": 48,
   "id": "d38f5939",
   "metadata": {},
   "outputs": [
    {
     "name": "stderr",
     "output_type": "stream",
     "text": [
      "D:\\Users\\uj200\\anaconda3\\lib\\site-packages\\matplotlib\\backends\\backend_agg.py:240: RuntimeWarning: Glyph 51333 missing from current font.\n",
      "  font.set_text(s, 0.0, flags=flags)\n",
      "D:\\Users\\uj200\\anaconda3\\lib\\site-packages\\matplotlib\\backends\\backend_agg.py:240: RuntimeWarning: Glyph 44032 missing from current font.\n",
      "  font.set_text(s, 0.0, flags=flags)\n",
      "D:\\Users\\uj200\\anaconda3\\lib\\site-packages\\matplotlib\\backends\\backend_agg.py:203: RuntimeWarning: Glyph 51333 missing from current font.\n",
      "  font.set_text(s, 0, flags=flags)\n",
      "D:\\Users\\uj200\\anaconda3\\lib\\site-packages\\matplotlib\\backends\\backend_agg.py:203: RuntimeWarning: Glyph 44032 missing from current font.\n",
      "  font.set_text(s, 0, flags=flags)\n"
     ]
    },
    {
     "data": {
      "image/png": "[encoded data removed]",
      "text/plain": [
       "<Figure size 1260x280 with 3 Axes>"
      ]
     },
     "metadata": {},
     "output_type": "display_data"
    },
    {
     "name": "stdout",
     "output_type": "stream",
     "text": [
      "\n",
      "==================================\n",
      " - XGboost tuned R2 (by lin. reg.)  : 0.009\n",
      " - XGboost tuned R2 (by sklearn)  : -2153.032\n",
      " - XGboost tuned RMSE: 4157.532\n",
      "==================================\n"
     ]
    }
   ],
   "source": [
    "plot_figsize = (18, 4) # width and height in inches\n",
    "plot_dpi = 70\n",
    "y_pred = y_pred_valid_tuned\n",
    "y_true = y_valid\n",
    "\n",
    "method_name = \"XGboost tuned\"\n",
    "\n",
    "r2a_cnn, r2b_cnn, rmse_cnn = display_kden_scatter(method_name, y_pred, y_true, plot_figsize, plot_dpi)"
   ]
  },
  {
   "cell_type": "code",
   "execution_count": 49,
   "id": "6143da60",
   "metadata": {},
   "outputs": [
    {
     "name": "stdout",
     "output_type": "stream",
     "text": [
      "[0.06714958 0.11189666 0.03627169 0.05607537 0.09130938 0.03755738\n",
      " 0.04501152 0.05288246 0.06410414 0.2289999  0.11915245 0.08958947]\n"
     ]
    }
   ],
   "source": [
    "# feature importance\n",
    "print(xgb_reg_best_estimator.feature_importances_)"
   ]
  },
  {
   "cell_type": "code",
   "execution_count": 50,
   "id": "365dd7a3",
   "metadata": {},
   "outputs": [
    {
     "data": {
      "image/png": "[encoded data removed]",
      "text/plain": [
       "<Figure size 432x288 with 1 Axes>"
      ]
     },
     "metadata": {},
     "output_type": "display_data"
    }
   ],
   "source": [
    "from matplotlib import pyplot\n",
    "# plot\n",
    "pyplot.bar(range(len(xgb_reg_best_estimator.feature_importances_)), xgb_reg_best_estimator.feature_importances_)\n",
    "pyplot.show();"
   ]
  },
  {
   "cell_type": "code",
   "execution_count": null,
   "id": "390612c7",
   "metadata": {},
   "outputs": [],
   "source": []
  },
  {
   "cell_type": "code",
   "execution_count": null,
   "id": "1d4bea6c",
   "metadata": {},
   "outputs": [],
   "source": []
  },
  {
   "cell_type": "markdown",
   "id": "d340c7b4",
   "metadata": {},
   "source": [
    "### JYP"
   ]
  },
  {
   "cell_type": "code",
   "execution_count": 51,
   "id": "031fc024",
   "metadata": {},
   "outputs": [],
   "source": [
    "# train, test split\n",
    "\n",
    "# 특정 칼럼 제외한 결과 저장\n",
    "columns_to_exclude = ['종가']  # 제외할 칼럼 이름\n",
    "selected_columns = [col for col in data_JYP.columns if col not in columns_to_exclude]\n",
    "\n",
    "X = data_JYP[selected_columns]\n",
    "y = data_JYP['종가']\n",
    "\n",
    "X_train, X_test, y_train, y_test = train_test_split(X, y, test_size=0.2, random_state=42)\n",
    "X_train, X_valid, y_train, y_valid = train_test_split(X_train, y_train, test_size=0.25, random_state=42)\n"
   ]
  },
  {
   "cell_type": "code",
   "execution_count": 52,
   "id": "7d223506",
   "metadata": {},
   "outputs": [
    {
     "data": {
      "text/html": [
       "<div>\n",
       "<style scoped>\n",
       "    .dataframe tbody tr th:only-of-type {\n",
       "        vertical-align: middle;\n",
       "    }\n",
       "\n",
       "    .dataframe tbody tr th {\n",
       "        vertical-align: top;\n",
       "    }\n",
       "\n",
       "    .dataframe thead th {\n",
       "        text-align: right;\n",
       "    }\n",
       "</style>\n",
       "<table border=\"1\" class=\"dataframe\">\n",
       "  <thead>\n",
       "    <tr style=\"text-align: right;\">\n",
       "      <th></th>\n",
       "      <th>views_DAY6</th>\n",
       "      <th>count_DAY6</th>\n",
       "      <th>npv_DAY6</th>\n",
       "      <th>npr_DAY6</th>\n",
       "      <th>views_TWI</th>\n",
       "      <th>count_TWI</th>\n",
       "      <th>npv_TWI</th>\n",
       "      <th>npr_TWI</th>\n",
       "      <th>views_SKZ</th>\n",
       "      <th>count_SKZ</th>\n",
       "      <th>npv_SKZ</th>\n",
       "      <th>npr_SKZ</th>\n",
       "      <th>views_ITZY</th>\n",
       "      <th>count_ITZY</th>\n",
       "      <th>npv_ITZY</th>\n",
       "      <th>npr_ITZY</th>\n",
       "      <th>views_NMX</th>\n",
       "      <th>count_NMX</th>\n",
       "      <th>npv_NMX</th>\n",
       "      <th>npr_NMX</th>\n",
       "    </tr>\n",
       "  </thead>\n",
       "  <tbody>\n",
       "    <tr>\n",
       "      <th>2022-06-27</th>\n",
       "      <td>44704.0</td>\n",
       "      <td>1.0</td>\n",
       "      <td>0.014585</td>\n",
       "      <td>93.142857</td>\n",
       "      <td>3204453.0</td>\n",
       "      <td>1.0</td>\n",
       "      <td>0.014355</td>\n",
       "      <td>37.797864</td>\n",
       "      <td>3925108.0</td>\n",
       "      <td>1.0</td>\n",
       "      <td>0.091354</td>\n",
       "      <td>30.627806</td>\n",
       "      <td>451991.0</td>\n",
       "      <td>1.0</td>\n",
       "      <td>0.018637</td>\n",
       "      <td>34.250000</td>\n",
       "      <td>4419047.0</td>\n",
       "      <td>1.0</td>\n",
       "      <td>0.047522</td>\n",
       "      <td>227.518960</td>\n",
       "    </tr>\n",
       "    <tr>\n",
       "      <th>2022-06-14</th>\n",
       "      <td>55931.0</td>\n",
       "      <td>1.0</td>\n",
       "      <td>0.028719</td>\n",
       "      <td>31.571429</td>\n",
       "      <td>1393485.0</td>\n",
       "      <td>1.0</td>\n",
       "      <td>0.032533</td>\n",
       "      <td>54.346879</td>\n",
       "      <td>3925108.0</td>\n",
       "      <td>1.0</td>\n",
       "      <td>0.091354</td>\n",
       "      <td>30.627806</td>\n",
       "      <td>451991.0</td>\n",
       "      <td>1.0</td>\n",
       "      <td>0.018637</td>\n",
       "      <td>34.250000</td>\n",
       "      <td>1471293.5</td>\n",
       "      <td>1.0</td>\n",
       "      <td>0.036169</td>\n",
       "      <td>104.174774</td>\n",
       "    </tr>\n",
       "    <tr>\n",
       "      <th>2022-08-31</th>\n",
       "      <td>37548.0</td>\n",
       "      <td>1.0</td>\n",
       "      <td>0.017657</td>\n",
       "      <td>31.571429</td>\n",
       "      <td>1393485.0</td>\n",
       "      <td>1.0</td>\n",
       "      <td>0.032533</td>\n",
       "      <td>54.346879</td>\n",
       "      <td>3925108.0</td>\n",
       "      <td>1.0</td>\n",
       "      <td>0.091354</td>\n",
       "      <td>30.627806</td>\n",
       "      <td>451991.0</td>\n",
       "      <td>1.0</td>\n",
       "      <td>0.018637</td>\n",
       "      <td>34.250000</td>\n",
       "      <td>1471293.5</td>\n",
       "      <td>1.0</td>\n",
       "      <td>0.036169</td>\n",
       "      <td>104.174774</td>\n",
       "    </tr>\n",
       "    <tr>\n",
       "      <th>2022-12-20</th>\n",
       "      <td>55931.0</td>\n",
       "      <td>1.0</td>\n",
       "      <td>0.028719</td>\n",
       "      <td>31.571429</td>\n",
       "      <td>1393485.0</td>\n",
       "      <td>1.0</td>\n",
       "      <td>0.032533</td>\n",
       "      <td>54.346879</td>\n",
       "      <td>3925108.0</td>\n",
       "      <td>1.0</td>\n",
       "      <td>0.091354</td>\n",
       "      <td>30.627806</td>\n",
       "      <td>451991.0</td>\n",
       "      <td>1.0</td>\n",
       "      <td>0.018637</td>\n",
       "      <td>34.250000</td>\n",
       "      <td>1471293.5</td>\n",
       "      <td>1.0</td>\n",
       "      <td>0.036169</td>\n",
       "      <td>104.174774</td>\n",
       "    </tr>\n",
       "    <tr>\n",
       "      <th>2022-11-02</th>\n",
       "      <td>55931.0</td>\n",
       "      <td>1.0</td>\n",
       "      <td>0.028719</td>\n",
       "      <td>31.571429</td>\n",
       "      <td>1393485.0</td>\n",
       "      <td>1.0</td>\n",
       "      <td>0.032533</td>\n",
       "      <td>54.346879</td>\n",
       "      <td>3925108.0</td>\n",
       "      <td>1.0</td>\n",
       "      <td>0.091354</td>\n",
       "      <td>30.627806</td>\n",
       "      <td>958231.0</td>\n",
       "      <td>1.0</td>\n",
       "      <td>0.010436</td>\n",
       "      <td>17.094017</td>\n",
       "      <td>1471293.5</td>\n",
       "      <td>1.0</td>\n",
       "      <td>0.036169</td>\n",
       "      <td>104.174774</td>\n",
       "    </tr>\n",
       "  </tbody>\n",
       "</table>\n",
       "</div>"
      ],
      "text/plain": [
       "            views_DAY6  count_DAY6  npv_DAY6   npr_DAY6  views_TWI  count_TWI  \\\n",
       "2022-06-27     44704.0         1.0  0.014585  93.142857  3204453.0        1.0   \n",
       "2022-06-14     55931.0         1.0  0.028719  31.571429  1393485.0        1.0   \n",
       "2022-08-31     37548.0         1.0  0.017657  31.571429  1393485.0        1.0   \n",
       "2022-12-20     55931.0         1.0  0.028719  31.571429  1393485.0        1.0   \n",
       "2022-11-02     55931.0         1.0  0.028719  31.571429  1393485.0        1.0   \n",
       "\n",
       "             npv_TWI    npr_TWI  views_SKZ  count_SKZ   npv_SKZ    npr_SKZ  \\\n",
       "2022-06-27  0.014355  37.797864  3925108.0        1.0  0.091354  30.627806   \n",
       "2022-06-14  0.032533  54.346879  3925108.0        1.0  0.091354  30.627806   \n",
       "2022-08-31  0.032533  54.346879  3925108.0        1.0  0.091354  30.627806   \n",
       "2022-12-20  0.032533  54.346879  3925108.0        1.0  0.091354  30.627806   \n",
       "2022-11-02  0.032533  54.346879  3925108.0        1.0  0.091354  30.627806   \n",
       "\n",
       "            views_ITZY  count_ITZY  npv_ITZY   npr_ITZY  views_NMX  count_NMX  \\\n",
       "2022-06-27    451991.0         1.0  0.018637  34.250000  4419047.0        1.0   \n",
       "2022-06-14    451991.0         1.0  0.018637  34.250000  1471293.5        1.0   \n",
       "2022-08-31    451991.0         1.0  0.018637  34.250000  1471293.5        1.0   \n",
       "2022-12-20    451991.0         1.0  0.018637  34.250000  1471293.5        1.0   \n",
       "2022-11-02    958231.0         1.0  0.010436  17.094017  1471293.5        1.0   \n",
       "\n",
       "             npv_NMX     npr_NMX  \n",
       "2022-06-27  0.047522  227.518960  \n",
       "2022-06-14  0.036169  104.174774  \n",
       "2022-08-31  0.036169  104.174774  \n",
       "2022-12-20  0.036169  104.174774  \n",
       "2022-11-02  0.036169  104.174774  "
      ]
     },
     "execution_count": 52,
     "metadata": {},
     "output_type": "execute_result"
    }
   ],
   "source": [
    "X_train.head()"
   ]
  },
  {
   "cell_type": "code",
   "execution_count": 53,
   "id": "7cffd8c3",
   "metadata": {},
   "outputs": [],
   "source": [
    "from sklearn.preprocessing import StandardScaler\n",
    "\n",
    "# load scaler\n",
    "scaler = StandardScaler()\n",
    "\n",
    "# scale train and valid sets\n",
    "\n",
    "# transform dataframes (take out first column which is label)\n",
    "X_train = pd.DataFrame(scaler.fit_transform(X_train), dtype='float32')\n",
    "X_valid = pd.DataFrame(scaler.transform(X_valid), dtype='float32')"
   ]
  },
  {
   "cell_type": "code",
   "execution_count": 54,
   "id": "743d4948",
   "metadata": {},
   "outputs": [
    {
     "data": {
      "text/html": [
       "<div>\n",
       "<style scoped>\n",
       "    .dataframe tbody tr th:only-of-type {\n",
       "        vertical-align: middle;\n",
       "    }\n",
       "\n",
       "    .dataframe tbody tr th {\n",
       "        vertical-align: top;\n",
       "    }\n",
       "\n",
       "    .dataframe thead th {\n",
       "        text-align: right;\n",
       "    }\n",
       "</style>\n",
       "<table border=\"1\" class=\"dataframe\">\n",
       "  <thead>\n",
       "    <tr style=\"text-align: right;\">\n",
       "      <th></th>\n",
       "      <th>0</th>\n",
       "      <th>1</th>\n",
       "      <th>2</th>\n",
       "      <th>3</th>\n",
       "      <th>4</th>\n",
       "      <th>5</th>\n",
       "      <th>6</th>\n",
       "      <th>7</th>\n",
       "      <th>8</th>\n",
       "      <th>9</th>\n",
       "      <th>10</th>\n",
       "      <th>11</th>\n",
       "      <th>12</th>\n",
       "      <th>13</th>\n",
       "      <th>14</th>\n",
       "      <th>15</th>\n",
       "      <th>16</th>\n",
       "      <th>17</th>\n",
       "      <th>18</th>\n",
       "      <th>19</th>\n",
       "    </tr>\n",
       "  </thead>\n",
       "  <tbody>\n",
       "    <tr>\n",
       "      <th>0</th>\n",
       "      <td>-0.313786</td>\n",
       "      <td>-0.146247</td>\n",
       "      <td>-0.947565</td>\n",
       "      <td>1.943833</td>\n",
       "      <td>0.008636</td>\n",
       "      <td>-0.264741</td>\n",
       "      <td>-1.484349</td>\n",
       "      <td>-0.366499</td>\n",
       "      <td>-0.092745</td>\n",
       "      <td>-0.183494</td>\n",
       "      <td>0.062295</td>\n",
       "      <td>-0.161489</td>\n",
       "      <td>-0.124586</td>\n",
       "      <td>-0.142278</td>\n",
       "      <td>-0.124763</td>\n",
       "      <td>-0.120435</td>\n",
       "      <td>0.151917</td>\n",
       "      <td>-0.354768</td>\n",
       "      <td>1.374058</td>\n",
       "      <td>1.184566</td>\n",
       "    </tr>\n",
       "    <tr>\n",
       "      <th>1</th>\n",
       "      <td>-0.176934</td>\n",
       "      <td>-0.146247</td>\n",
       "      <td>-0.153690</td>\n",
       "      <td>-0.155233</td>\n",
       "      <td>-0.168812</td>\n",
       "      <td>-0.264741</td>\n",
       "      <td>-0.114309</td>\n",
       "      <td>-0.169403</td>\n",
       "      <td>-0.092745</td>\n",
       "      <td>-0.183494</td>\n",
       "      <td>0.062295</td>\n",
       "      <td>-0.161489</td>\n",
       "      <td>-0.124586</td>\n",
       "      <td>-0.142278</td>\n",
       "      <td>-0.124763</td>\n",
       "      <td>-0.120435</td>\n",
       "      <td>-0.159260</td>\n",
       "      <td>-0.354768</td>\n",
       "      <td>-0.009887</td>\n",
       "      <td>-0.220046</td>\n",
       "    </tr>\n",
       "    <tr>\n",
       "      <th>2</th>\n",
       "      <td>-0.401014</td>\n",
       "      <td>-0.146247</td>\n",
       "      <td>-0.774989</td>\n",
       "      <td>-0.155233</td>\n",
       "      <td>-0.168812</td>\n",
       "      <td>-0.264741</td>\n",
       "      <td>-0.114309</td>\n",
       "      <td>-0.169403</td>\n",
       "      <td>-0.092745</td>\n",
       "      <td>-0.183494</td>\n",
       "      <td>0.062295</td>\n",
       "      <td>-0.161489</td>\n",
       "      <td>-0.124586</td>\n",
       "      <td>-0.142278</td>\n",
       "      <td>-0.124763</td>\n",
       "      <td>-0.120435</td>\n",
       "      <td>-0.159260</td>\n",
       "      <td>-0.354768</td>\n",
       "      <td>-0.009887</td>\n",
       "      <td>-0.220046</td>\n",
       "    </tr>\n",
       "    <tr>\n",
       "      <th>3</th>\n",
       "      <td>-0.176934</td>\n",
       "      <td>-0.146247</td>\n",
       "      <td>-0.153690</td>\n",
       "      <td>-0.155233</td>\n",
       "      <td>-0.168812</td>\n",
       "      <td>-0.264741</td>\n",
       "      <td>-0.114309</td>\n",
       "      <td>-0.169403</td>\n",
       "      <td>-0.092745</td>\n",
       "      <td>-0.183494</td>\n",
       "      <td>0.062295</td>\n",
       "      <td>-0.161489</td>\n",
       "      <td>-0.124586</td>\n",
       "      <td>-0.142278</td>\n",
       "      <td>-0.124763</td>\n",
       "      <td>-0.120435</td>\n",
       "      <td>-0.159260</td>\n",
       "      <td>-0.354768</td>\n",
       "      <td>-0.009887</td>\n",
       "      <td>-0.220046</td>\n",
       "    </tr>\n",
       "    <tr>\n",
       "      <th>4</th>\n",
       "      <td>-0.176934</td>\n",
       "      <td>-0.146247</td>\n",
       "      <td>-0.153690</td>\n",
       "      <td>-0.155233</td>\n",
       "      <td>-0.168812</td>\n",
       "      <td>-0.264741</td>\n",
       "      <td>-0.114309</td>\n",
       "      <td>-0.169403</td>\n",
       "      <td>-0.092745</td>\n",
       "      <td>-0.183494</td>\n",
       "      <td>0.062295</td>\n",
       "      <td>-0.161489</td>\n",
       "      <td>-0.091020</td>\n",
       "      <td>-0.142278</td>\n",
       "      <td>-0.539313</td>\n",
       "      <td>-1.697979</td>\n",
       "      <td>-0.159260</td>\n",
       "      <td>-0.354768</td>\n",
       "      <td>-0.009887</td>\n",
       "      <td>-0.220046</td>\n",
       "    </tr>\n",
       "  </tbody>\n",
       "</table>\n",
       "</div>"
      ],
      "text/plain": [
       "         0         1         2         3         4         5         6   \\\n",
       "0 -0.313786 -0.146247 -0.947565  1.943833  0.008636 -0.264741 -1.484349   \n",
       "1 -0.176934 -0.146247 -0.153690 -0.155233 -0.168812 -0.264741 -0.114309   \n",
       "2 -0.401014 -0.146247 -0.774989 -0.155233 -0.168812 -0.264741 -0.114309   \n",
       "3 -0.176934 -0.146247 -0.153690 -0.155233 -0.168812 -0.264741 -0.114309   \n",
       "4 -0.176934 -0.146247 -0.153690 -0.155233 -0.168812 -0.264741 -0.114309   \n",
       "\n",
       "         7         8         9         10        11        12        13  \\\n",
       "0 -0.366499 -0.092745 -0.183494  0.062295 -0.161489 -0.124586 -0.142278   \n",
       "1 -0.169403 -0.092745 -0.183494  0.062295 -0.161489 -0.124586 -0.142278   \n",
       "2 -0.169403 -0.092745 -0.183494  0.062295 -0.161489 -0.124586 -0.142278   \n",
       "3 -0.169403 -0.092745 -0.183494  0.062295 -0.161489 -0.124586 -0.142278   \n",
       "4 -0.169403 -0.092745 -0.183494  0.062295 -0.161489 -0.091020 -0.142278   \n",
       "\n",
       "         14        15        16        17        18        19  \n",
       "0 -0.124763 -0.120435  0.151917 -0.354768  1.374058  1.184566  \n",
       "1 -0.124763 -0.120435 -0.159260 -0.354768 -0.009887 -0.220046  \n",
       "2 -0.124763 -0.120435 -0.159260 -0.354768 -0.009887 -0.220046  \n",
       "3 -0.124763 -0.120435 -0.159260 -0.354768 -0.009887 -0.220046  \n",
       "4 -0.539313 -1.697979 -0.159260 -0.354768 -0.009887 -0.220046  "
      ]
     },
     "execution_count": 54,
     "metadata": {},
     "output_type": "execute_result"
    }
   ],
   "source": [
    "X_train.head()"
   ]
  },
  {
   "cell_type": "code",
   "execution_count": 55,
   "id": "7524c2a1",
   "metadata": {},
   "outputs": [],
   "source": [
    "xgb_regressor = xgb.XGBRegressor(random_state=my_seed, nthread=-1)"
   ]
  },
  {
   "cell_type": "code",
   "execution_count": 56,
   "id": "a340360f",
   "metadata": {},
   "outputs": [
    {
     "name": "stdout",
     "output_type": "stream",
     "text": [
      "[0]\tvalidation_0-rmse:16419.45360\n",
      "[1]\tvalidation_0-rmse:16363.63786\n",
      "[2]\tvalidation_0-rmse:16425.61043\n",
      "[3]\tvalidation_0-rmse:17699.83078\n",
      "[4]\tvalidation_0-rmse:18037.94797\n",
      "[5]\tvalidation_0-rmse:18863.17771\n",
      "[6]\tvalidation_0-rmse:19691.66875\n",
      "[7]\tvalidation_0-rmse:19687.32496\n",
      "[8]\tvalidation_0-rmse:19755.80623\n",
      "[9]\tvalidation_0-rmse:19993.97781\n",
      "[10]\tvalidation_0-rmse:20144.80553\n",
      "[11]\tvalidation_0-rmse:20285.72745\n",
      "[12]\tvalidation_0-rmse:20340.64125\n",
      "[13]\tvalidation_0-rmse:20506.00690\n",
      "[14]\tvalidation_0-rmse:20648.33672\n",
      "[15]\tvalidation_0-rmse:20785.41366\n",
      "[16]\tvalidation_0-rmse:20873.93340\n",
      "[17]\tvalidation_0-rmse:20916.92053\n",
      "[18]\tvalidation_0-rmse:20941.12809\n",
      "[19]\tvalidation_0-rmse:20933.74671\n"
     ]
    },
    {
     "name": "stderr",
     "output_type": "stream",
     "text": [
      "D:\\Users\\uj200\\anaconda3\\lib\\site-packages\\xgboost\\sklearn.py:835: UserWarning: `early_stopping_rounds` in `fit` method is deprecated for better compatibility with scikit-learn, use `early_stopping_rounds` in constructor or`set_params` instead.\n",
      "  warnings.warn(\n"
     ]
    },
    {
     "name": "stdout",
     "output_type": "stream",
     "text": [
      "[20]\tvalidation_0-rmse:21083.22899\n",
      "Wall time: 229 ms\n"
     ]
    },
    {
     "data": {
      "text/plain": [
       "XGBRegressor(base_score=None, booster=None, callbacks=None,\n",
       "             colsample_bylevel=None, colsample_bynode=None,\n",
       "             colsample_bytree=None, early_stopping_rounds=None,\n",
       "             enable_categorical=False, eval_metric=None, feature_types=None,\n",
       "             gamma=None, gpu_id=None, grow_policy=None, importance_type=None,\n",
       "             interaction_constraints=None, learning_rate=None, max_bin=None,\n",
       "             max_cat_threshold=None, max_cat_to_onehot=None,\n",
       "             max_delta_step=None, max_depth=None, max_leaves=None,\n",
       "             min_child_weight=None, missing=nan, monotone_constraints=None,\n",
       "             n_estimators=100, n_jobs=None, nthread=-1, num_parallel_tree=None,\n",
       "             predictor=None, ...)"
      ]
     },
     "execution_count": 56,
     "metadata": {},
     "output_type": "execute_result"
    }
   ],
   "source": [
    "%%time\n",
    "\n",
    "early_stop_rounds = 20\n",
    "\n",
    "# use early stopping\n",
    "\n",
    "xgb_regressor.fit(X_train, y_train,\n",
    "            eval_set=[(X_valid, y_valid)], early_stopping_rounds=early_stop_rounds)"
   ]
  },
  {
   "cell_type": "code",
   "execution_count": 57,
   "id": "ecc1276e",
   "metadata": {},
   "outputs": [],
   "source": [
    "# get validation set prediction results\n",
    "\n",
    "y_pred_valid = xgb_regressor.predict(X_valid)\n",
    "#y_pred_valid"
   ]
  },
  {
   "cell_type": "code",
   "execution_count": 58,
   "id": "1533a095",
   "metadata": {},
   "outputs": [
    {
     "name": "stderr",
     "output_type": "stream",
     "text": [
      "D:\\Users\\uj200\\anaconda3\\lib\\site-packages\\matplotlib\\backends\\backend_agg.py:240: RuntimeWarning: Glyph 51333 missing from current font.\n",
      "  font.set_text(s, 0.0, flags=flags)\n",
      "D:\\Users\\uj200\\anaconda3\\lib\\site-packages\\matplotlib\\backends\\backend_agg.py:240: RuntimeWarning: Glyph 44032 missing from current font.\n",
      "  font.set_text(s, 0.0, flags=flags)\n",
      "D:\\Users\\uj200\\anaconda3\\lib\\site-packages\\matplotlib\\backends\\backend_agg.py:203: RuntimeWarning: Glyph 51333 missing from current font.\n",
      "  font.set_text(s, 0, flags=flags)\n",
      "D:\\Users\\uj200\\anaconda3\\lib\\site-packages\\matplotlib\\backends\\backend_agg.py:203: RuntimeWarning: Glyph 44032 missing from current font.\n",
      "  font.set_text(s, 0, flags=flags)\n"
     ]
    },
    {
     "data": {
      "image/png": "[encoded data removed]",
      "text/plain": [
       "<Figure size 1260x280 with 3 Axes>"
      ]
     },
     "metadata": {},
     "output_type": "display_data"
    },
    {
     "name": "stdout",
     "output_type": "stream",
     "text": [
      "\n",
      "==================================\n",
      " - XGboost R2 (by lin. reg.)  : 0.026\n",
      " - XGboost R2 (by sklearn)  : -9.567\n",
      " - XGboost RMSE: 16363.638\n",
      "==================================\n"
     ]
    }
   ],
   "source": [
    "plot_figsize = (18, 4) # width and height in inches\n",
    "plot_dpi = 70\n",
    "y_pred = y_pred_valid\n",
    "y_true = y_valid\n",
    "\n",
    "method_name = \"XGboost\"\n",
    "\n",
    "r2a_cnn, r2b_cnn, rmse_cnn = display_kden_scatter(method_name, y_pred, y_true, plot_figsize, plot_dpi)"
   ]
  },
  {
   "cell_type": "markdown",
   "id": "6aed17b1",
   "metadata": {},
   "source": [
    "### JYP Tune XGBoost(hyperparameter)"
   ]
  },
  {
   "cell_type": "code",
   "execution_count": 59,
   "id": "07e02ee2",
   "metadata": {},
   "outputs": [],
   "source": [
    "from sklearn.model_selection import RandomizedSearchCV\n",
    "\n",
    "param_grid = {\n",
    "    \"max_depth\": [3, 4, 5, 6],\n",
    "    \"learning_rate\": [0.01, 0.05, 0.1, 0.15],\n",
    "    \"gamma\": [0, 0.25, 0.5, 0.75, 1],\n",
    "    \"subsample\": [0.4, 0.6, 0.8],\n",
    "    \"colsample_bytree\": [0.25, 0.5, 0.75],\n",
    "    \"n_estimators\": [100, 150, 200, 250, 300]\n",
    "}"
   ]
  },
  {
   "cell_type": "code",
   "execution_count": 60,
   "id": "ee53fbdc",
   "metadata": {},
   "outputs": [
    {
     "name": "stdout",
     "output_type": "stream",
     "text": [
      "Fitting 3 folds for each of 10 candidates, totalling 30 fits\n"
     ]
    },
    {
     "data": {
      "text/plain": [
       "RandomizedSearchCV(cv=3,\n",
       "                   estimator=XGBRegressor(base_score=None, booster=None,\n",
       "                                          callbacks=None,\n",
       "                                          colsample_bylevel=None,\n",
       "                                          colsample_bynode=None,\n",
       "                                          colsample_bytree=None,\n",
       "                                          early_stopping_rounds=None,\n",
       "                                          enable_categorical=False,\n",
       "                                          eval_metric=None, feature_types=None,\n",
       "                                          gamma=None, gpu_id=None,\n",
       "                                          grow_policy=None,\n",
       "                                          importance_type=None,\n",
       "                                          interaction_constraints=None,\n",
       "                                          learning_rate=...\n",
       "                                          num_parallel_tree=None,\n",
       "                                          predictor=None, random_state=None, ...),\n",
       "                   n_jobs=-1,\n",
       "                   param_distributions={'colsample_bytree': [0.25, 0.5, 0.75],\n",
       "                                        'gamma': [0, 0.25, 0.5, 0.75, 1],\n",
       "                                        'learning_rate': [0.01, 0.05, 0.1,\n",
       "                                                          0.15],\n",
       "                                        'max_depth': [3, 4, 5, 6],\n",
       "                                        'n_estimators': [100, 150, 200, 250,\n",
       "                                                         300],\n",
       "                                        'subsample': [0.4, 0.6, 0.8]},\n",
       "                   random_state=42, return_train_score=True,\n",
       "                   scoring='neg_root_mean_squared_error', verbose=1)"
      ]
     },
     "execution_count": 60,
     "metadata": {},
     "output_type": "execute_result"
    }
   ],
   "source": [
    "# Init classifier\n",
    "xgb_reg = xgb.XGBRegressor()\n",
    "\n",
    "# Init Grid Search\n",
    "search = RandomizedSearchCV(xgb_reg, param_distributions=param_grid, n_jobs=-1, cv=3, verbose=1, \n",
    "                             random_state=my_seed, return_train_score=True,\n",
    "                             scoring=\"neg_root_mean_squared_error\")\n",
    "\n",
    "# Fit\n",
    "search.fit(X_train, y_train)"
   ]
  },
  {
   "cell_type": "code",
   "execution_count": 61,
   "id": "12db0fba",
   "metadata": {},
   "outputs": [
    {
     "data": {
      "text/plain": [
       "{'subsample': 0.4,\n",
       " 'n_estimators': 250,\n",
       " 'max_depth': 3,\n",
       " 'learning_rate': 0.01,\n",
       " 'gamma': 1,\n",
       " 'colsample_bytree': 0.5}"
      ]
     },
     "execution_count": 61,
     "metadata": {},
     "output_type": "execute_result"
    }
   ],
   "source": [
    "search.best_params_"
   ]
  },
  {
   "cell_type": "code",
   "execution_count": 62,
   "id": "e1ed8845",
   "metadata": {},
   "outputs": [
    {
     "data": {
      "text/plain": [
       "-18063.589353130486"
      ]
     },
     "execution_count": 62,
     "metadata": {},
     "output_type": "execute_result"
    }
   ],
   "source": [
    "search.best_score_"
   ]
  },
  {
   "cell_type": "code",
   "execution_count": 63,
   "id": "b206cf01",
   "metadata": {},
   "outputs": [
    {
     "data": {
      "text/plain": [
       "XGBRegressor(base_score=None, booster=None, callbacks=None,\n",
       "             colsample_bylevel=None, colsample_bynode=None,\n",
       "             colsample_bytree=0.5, early_stopping_rounds=None,\n",
       "             enable_categorical=False, eval_metric=None, feature_types=None,\n",
       "             gamma=1, gpu_id=None, grow_policy=None, importance_type=None,\n",
       "             interaction_constraints=None, learning_rate=0.01, max_bin=None,\n",
       "             max_cat_threshold=None, max_cat_to_onehot=None,\n",
       "             max_delta_step=None, max_depth=3, max_leaves=None,\n",
       "             min_child_weight=None, missing=nan, monotone_constraints=None,\n",
       "             n_estimators=250, n_jobs=None, num_parallel_tree=None,\n",
       "             predictor=None, random_state=None, ...)"
      ]
     },
     "execution_count": 63,
     "metadata": {},
     "output_type": "execute_result"
    }
   ],
   "source": [
    "search.best_estimator_"
   ]
  },
  {
   "cell_type": "code",
   "execution_count": 64,
   "id": "1a2e699d",
   "metadata": {},
   "outputs": [],
   "source": [
    "xgb_reg_best_estimator = search.best_estimator_"
   ]
  },
  {
   "cell_type": "code",
   "execution_count": 65,
   "id": "2cfddbf3",
   "metadata": {},
   "outputs": [
    {
     "name": "stdout",
     "output_type": "stream",
     "text": [
      "[0]\tvalidation_0-rmse:16372.21701\n",
      "[1]\tvalidation_0-rmse:16376.87185\n",
      "[2]\tvalidation_0-rmse:16375.49648\n",
      "[3]\tvalidation_0-rmse:16384.78300\n",
      "[4]\tvalidation_0-rmse:16365.58718\n",
      "[5]\tvalidation_0-rmse:16372.14334\n",
      "[6]\tvalidation_0-rmse:16385.78660\n",
      "[7]\tvalidation_0-rmse:16429.93516\n",
      "[8]\tvalidation_0-rmse:16434.38582\n",
      "[9]\tvalidation_0-rmse:16444.66245\n",
      "[10]\tvalidation_0-rmse:16451.99153\n",
      "[11]\tvalidation_0-rmse:16454.19371\n",
      "[12]\tvalidation_0-rmse:16423.93673\n",
      "[13]\tvalidation_0-rmse:16440.38989\n",
      "[14]\tvalidation_0-rmse:16410.09452\n",
      "[15]\tvalidation_0-rmse:16445.31890\n",
      "[16]\tvalidation_0-rmse:16453.31720\n",
      "[17]\tvalidation_0-rmse:16443.97684\n",
      "[18]\tvalidation_0-rmse:16459.04633\n",
      "[19]\tvalidation_0-rmse:16464.55463\n",
      "[20]\tvalidation_0-rmse:16473.09293\n",
      "[21]\tvalidation_0-rmse:16478.12520\n",
      "[22]\tvalidation_0-rmse:16469.04760\n",
      "[23]\tvalidation_0-rmse:16471.66141\n"
     ]
    },
    {
     "name": "stderr",
     "output_type": "stream",
     "text": [
      "D:\\Users\\uj200\\anaconda3\\lib\\site-packages\\xgboost\\sklearn.py:835: UserWarning: `early_stopping_rounds` in `fit` method is deprecated for better compatibility with scikit-learn, use `early_stopping_rounds` in constructor or`set_params` instead.\n",
      "  warnings.warn(\n"
     ]
    },
    {
     "data": {
      "text/plain": [
       "XGBRegressor(base_score=None, booster=None, callbacks=None,\n",
       "             colsample_bylevel=None, colsample_bynode=None,\n",
       "             colsample_bytree=0.5, early_stopping_rounds=None,\n",
       "             enable_categorical=False, eval_metric=None, feature_types=None,\n",
       "             gamma=1, gpu_id=None, grow_policy=None, importance_type=None,\n",
       "             interaction_constraints=None, learning_rate=0.01, max_bin=None,\n",
       "             max_cat_threshold=None, max_cat_to_onehot=None,\n",
       "             max_delta_step=None, max_depth=3, max_leaves=None,\n",
       "             min_child_weight=None, missing=nan, monotone_constraints=None,\n",
       "             n_estimators=250, n_jobs=None, num_parallel_tree=None,\n",
       "             predictor=None, random_state=None, ...)"
      ]
     },
     "execution_count": 65,
     "metadata": {},
     "output_type": "execute_result"
    }
   ],
   "source": [
    "early_stop_rounds = 20\n",
    "\n",
    "# use early stopping\n",
    "\n",
    "xgb_reg_best_estimator.fit(X_train, y_train,\n",
    "            eval_set=[(X_valid, y_valid)], early_stopping_rounds=early_stop_rounds)"
   ]
  },
  {
   "cell_type": "code",
   "execution_count": 66,
   "id": "5d499c55",
   "metadata": {},
   "outputs": [],
   "source": [
    "y_pred_valid_tuned = xgb_reg_best_estimator.predict(X_valid)\n",
    "#y_pred_valid_tuned"
   ]
  },
  {
   "cell_type": "code",
   "execution_count": 67,
   "id": "4f983a90",
   "metadata": {},
   "outputs": [
    {
     "name": "stderr",
     "output_type": "stream",
     "text": [
      "D:\\Users\\uj200\\anaconda3\\lib\\site-packages\\matplotlib\\backends\\backend_agg.py:240: RuntimeWarning: Glyph 51333 missing from current font.\n",
      "  font.set_text(s, 0.0, flags=flags)\n",
      "D:\\Users\\uj200\\anaconda3\\lib\\site-packages\\matplotlib\\backends\\backend_agg.py:240: RuntimeWarning: Glyph 44032 missing from current font.\n",
      "  font.set_text(s, 0.0, flags=flags)\n",
      "D:\\Users\\uj200\\anaconda3\\lib\\site-packages\\matplotlib\\backends\\backend_agg.py:203: RuntimeWarning: Glyph 51333 missing from current font.\n",
      "  font.set_text(s, 0, flags=flags)\n",
      "D:\\Users\\uj200\\anaconda3\\lib\\site-packages\\matplotlib\\backends\\backend_agg.py:203: RuntimeWarning: Glyph 44032 missing from current font.\n",
      "  font.set_text(s, 0, flags=flags)\n"
     ]
    },
    {
     "data": {
      "image/png": "[encoded data removed]",
      "text/plain": [
       "<Figure size 1260x280 with 3 Axes>"
      ]
     },
     "metadata": {},
     "output_type": "display_data"
    },
    {
     "name": "stdout",
     "output_type": "stream",
     "text": [
      "\n",
      "==================================\n",
      " - XGboost tuned R2 (by lin. reg.)  : 0.003\n",
      " - XGboost tuned R2 (by sklearn)  : -2856.911\n",
      " - XGboost tuned RMSE: 16365.587\n",
      "==================================\n"
     ]
    }
   ],
   "source": [
    "plot_figsize = (18, 4) # width and height in inches\n",
    "plot_dpi = 70\n",
    "y_pred = y_pred_valid_tuned\n",
    "y_true = y_valid\n",
    "\n",
    "method_name = \"XGboost tuned\"\n",
    "\n",
    "r2a_cnn, r2b_cnn, rmse_cnn = display_kden_scatter(method_name, y_pred, y_true, plot_figsize, plot_dpi)"
   ]
  },
  {
   "cell_type": "code",
   "execution_count": 68,
   "id": "62c82a10",
   "metadata": {},
   "outputs": [
    {
     "name": "stdout",
     "output_type": "stream",
     "text": [
      "[0.03912576 0.05778215 0.06600951 0.04145413 0.05091833 0.04865692\n",
      " 0.099603   0.06107458 0.01311629 0.02907365 0.05446952 0.02755633\n",
      " 0.01977498 0.04320393 0.07976516 0.07508826 0.06346957 0.03081975\n",
      " 0.04781378 0.05122443]\n"
     ]
    }
   ],
   "source": [
    "# feature importance\n",
    "print(xgb_reg_best_estimator.feature_importances_)"
   ]
  },
  {
   "cell_type": "code",
   "execution_count": 69,
   "id": "81a87509",
   "metadata": {},
   "outputs": [
    {
     "data": {
      "image/png": "[encoded data removed]",
      "text/plain": [
       "<Figure size 432x288 with 1 Axes>"
      ]
     },
     "metadata": {},
     "output_type": "display_data"
    }
   ],
   "source": [
    "from matplotlib import pyplot\n",
    "# plot\n",
    "pyplot.bar(range(len(xgb_reg_best_estimator.feature_importances_)), xgb_reg_best_estimator.feature_importances_)\n",
    "pyplot.show();"
   ]
  }
 ],
 "metadata": {
  "kernelspec": {
   "display_name": "Python 3 (ipykernel)",
   "language": "python",
   "name": "python3"
  },
  "language_info": {
   "codemirror_mode": {
    "name": "ipython",
    "version": 3
   },
   "file_extension": ".py",
   "mimetype": "text/x-python",
   "name": "python",
   "nbconvert_exporter": "python",
   "pygments_lexer": "ipython3",
   "version": "3.9.7"
  }
 },
 "nbformat": 4,
 "nbformat_minor": 5
}
