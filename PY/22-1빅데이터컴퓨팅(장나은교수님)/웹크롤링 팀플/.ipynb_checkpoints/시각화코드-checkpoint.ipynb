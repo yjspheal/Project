{
 "cells": [
  {
   "cell_type": "code",
   "execution_count": null,
   "id": "e90d0170",
   "metadata": {},
   "outputs": [],
   "source": [
    "import pandas as pd \n",
    "import matplotlib.pyplot as plt\n",
    "import seaborn as sns\n",
    "import numpy as np\n",
    "path = '/content/drive/Shareddrives/빅데이터컴퓨팅/트렌드 지수(아이템 스카우트)'\n",
    "data = pd.read_excel(path+'/트렌드지수 크롤링(브랜드).xlsx')"
   ]
  },
  {
   "cell_type": "code",
   "execution_count": null,
   "id": "264ec944",
   "metadata": {},
   "outputs": [],
   "source": [
    "mean = np.mean(data['한 달 검색수'], axis=0)\n",
    "std = np.std(data['한 달 검색수'], axis=0)\n",
    "data_scaled_search= (data['한 달 검색수']-mean)/std\n",
    "mean = np.mean(data['평균 가격'], axis=0)\n",
    "std = np.std(data['평균 가격'], axis=0)\n",
    "data_scaled_price= (data['평균 가격']-mean)/std"
   ]
  },
  {
   "cell_type": "code",
   "execution_count": null,
   "id": "9bd89242",
   "metadata": {},
   "outputs": [],
   "source": [
    "plt.scatter(data_scaled_search,data_scaled_price)\n",
    "plt.xlabel('search volume for a month')\n",
    "plt.ylabel('avg price for a brand')"
   ]
  },
  {
   "cell_type": "code",
   "execution_count": null,
   "id": "34397f54",
   "metadata": {},
   "outputs": [],
   "source": []
  },
  {
   "cell_type": "code",
   "execution_count": null,
   "id": "6b2754f6",
   "metadata": {},
   "outputs": [],
   "source": [
    "#iris = sns.load_dataset(path+'/트렌드지수 크롤링(브랜드).xlsx')\n",
    "\n",
    "mean = np.mean(data['search_vol'], axis=0)\n",
    "std = np.std(data['search_vol'], axis=0)\n",
    "data_scaled_search= (data['search_vol']-mean)/std\n",
    "mean = np.mean(data['profit_6m'], axis=0)\n",
    "std = np.std(data['profit_6m'], axis=0)\n",
    "data_scaled_profit= (data['profit_6m']-mean)/std\n",
    "\n",
    "plt.scatter(data_scaled_search,data_scaled_profit,\n",
    "           alpha=0.2, \n",
    "           s=0.0000002*data.profit_6m, # marker size\n",
    "           c=data.index*123, # marker color\n",
    "\n",
    "           cmap='viridis')\n",
    "plt.title('Scatter Plot with 한달 검색량, 6개월 매출', fontsize=14)\n",
    "\n",
    "plt.xlabel('한달검색량', fontsize=12)\n",
    "\n",
    "plt.ylabel('6개월매출', fontsize=12)\n",
    "\n",
    "#한글 폰트 깨져서 안 나타남 \n",
    "plt.legend(labels = data.브랜드,loc = 'upper right')\n",
    "plt.colorbar()\n",
    "\n",
    "plt.show()\n",
    "\n",
    "\n",
    "\n",
    "# hover 시 브랜드 이름 나타나게 만드는 코드 \n",
    "#https://stackoverflow.com/questions/69948756/how-to-add-data-label-when-mouse-hover-a-line-chart-matplotlib"
   ]
  }
 ],
 "metadata": {
  "kernelspec": {
   "display_name": "Python 3 (ipykernel)",
   "language": "python",
   "name": "python3"
  },
  "language_info": {
   "codemirror_mode": {
    "name": "ipython",
    "version": 3
   },
   "file_extension": ".py",
   "mimetype": "text/x-python",
   "name": "python",
   "nbconvert_exporter": "python",
   "pygments_lexer": "ipython3",
   "version": "3.9.7"
  }
 },
 "nbformat": 4,
 "nbformat_minor": 5
}
