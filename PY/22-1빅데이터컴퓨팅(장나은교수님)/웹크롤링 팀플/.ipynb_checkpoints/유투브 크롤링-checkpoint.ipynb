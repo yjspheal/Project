{
 "cells": [
  {
   "cell_type": "code",
   "execution_count": 13,
   "id": "a020a563",
   "metadata": {},
   "outputs": [],
   "source": [
    "import time\n",
    "import pandas as pd\n",
    "import openpyxl as xl\n",
    "from bs4 import BeautifulSoup\n",
    "from selenium import webdriver\n",
    "from selenium.webdriver import Chrome\n",
    "from selenium.webdriver.common.keys import Keys\n",
    "from selenium.webdriver.chrome.options import Options\n",
    "from tqdm import tqdm\n",
    "\n",
    "def crawling_youtube(search_goods,times):\n",
    "    browser = webdriver.Chrome(\"C:\\Program Files\\Google\\Chrome\\Application\\chromedriver_win32\\\\chromedriver.exe\") \n",
    "    browser.implicitly_wait(3)   \n",
    "    \n",
    "    result = pd.ExcelWriter(search_goods+'.xlsx', engine='openpyxl')\n",
    "    \n",
    "    yt_url = \"https://www.youtube.com\"\n",
    "    search_goods = search_goods.replace(' ','+')  # url용으로 제품명 사이 공백 +로 대체\n",
    "    target_url  = yt_url + \"/results?search_query=\"+search_goods + \"+리뷰\" \n",
    "    browser.get(target_url)\n",
    "    \n",
    "\n",
    "    body = browser.find_element_by_tag_name('body')\n",
    "\n",
    "    for pg_down in range(50):  # 페이지 다운 수 늘릴 것\n",
    "        body.send_keys(Keys.PAGE_DOWN)\n",
    "        browser.implicitly_wait(1)\n",
    "\n",
    "    html0 = browser.page_source\n",
    "    html = BeautifulSoup(html0,'html.parser')\n",
    "\n",
    "    video_datas = html.find_all('ytd-video-renderer',{'class':'style-scope ytd-item-section-renderer'})\n",
    "\n",
    "    video_url_list = []\n",
    "    for i in range(len(video_datas)):\n",
    "        url = yt_url + video_datas[i].find('a',{'id':'thumbnail'})['href']\n",
    "        video_url_list.append(url)\n",
    "\n",
    "    dataframe = pd.DataFrame({'name':[], 'youtube_url':[], 'views':[], \"nice\":[], \"reply\":[]})\n",
    "\n",
    "     \n",
    "    for i in range(times):    \n",
    "        name = video_datas[i].find('a',{'id':'video-title'}).get_text()    \n",
    "        url = yt_url + video_datas[i].find('a',{'id':'thumbnail'})['href']\n",
    "    \n",
    "        cur_url = video_url_list[i]\n",
    "        browser.get(cur_url) \n",
    "        time.sleep(5)\n",
    "\n",
    "        body = browser.find_element_by_tag_name('body')\n",
    "\n",
    "        body.send_keys(Keys.PAGE_DOWN)\n",
    "        time.sleep(5)\n",
    "\n",
    "        html0 = browser.page_source\n",
    "        html = BeautifulSoup(html0,'html.parser')\n",
    "\n",
    "        try:\n",
    "            view_count = html.find('span',{'class':'view-count style-scope ytd-video-view-count-renderer'}).get_text().split()[1]\n",
    "            nice = html.find_all(\"yt-formatted-string\",{\"class\" : \"style-scope ytd-toggle-button-renderer style-text\"})[0]\n",
    "            nice_count = nice[\"aria-label\"].split()[-1]  #정확한 좋아요 수 반환\n",
    "\n",
    "        \n",
    "            info = html.find('h2', {'class' : 'style-scope ytd-comments-header-renderer'})\n",
    "            reply_count = info.find_all('span', {'class' : 'style-scope yt-formatted-string'})[1].get_text()\n",
    "            \n",
    "            insert_data = pd.DataFrame({'name':[name], 'youtube_url':[url], 'views':[view_count], \"nice\":[nice_count], \"reply\":[reply_count]})\n",
    "            \n",
    "        except Exception as e:\n",
    "            continue \n",
    "                        \n",
    "                             \n",
    "        dataframe = dataframe.append(insert_data)\n",
    "        dataframe.to_excel(result, index = False)\n",
    "        \n",
    "        result.save()\n",
    "        print(i+1)\n",
    "        \n",
    "    browser.close()"
   ]
  },
  {
   "cell_type": "markdown",
   "id": "3bf7cead",
   "metadata": {},
   "source": [
    "# URL/ 타이틀 / 조회수 / 댓글수 /좋아요수 "
   ]
  },
  {
   "cell_type": "code",
   "execution_count": 14,
   "id": "43cf980b",
   "metadata": {},
   "outputs": [
    {
     "name": "stderr",
     "output_type": "stream",
     "text": [
      "C:\\Users\\uj200\\AppData\\Local\\Temp/ipykernel_22692/558195071.py:12: DeprecationWarning: executable_path has been deprecated, please pass in a Service object\n",
      "  browser = webdriver.Chrome(\"C:\\Program Files\\Google\\Chrome\\Application\\chromedriver_win32\\\\chromedriver.exe\")\n",
      "C:\\Users\\uj200\\AppData\\Local\\Temp/ipykernel_22692/558195071.py:24: DeprecationWarning: find_element_by_tag_name is deprecated. Please use find_element(by=By.TAG_NAME, value=name) instead\n",
      "  body = browser.find_element_by_tag_name('body')\n",
      "C:\\Users\\uj200\\AppData\\Local\\Temp/ipykernel_22692/558195071.py:56: DeprecationWarning: find_element_by_tag_name is deprecated. Please use find_element(by=By.TAG_NAME, value=name) instead\n",
      "  body = browser.find_element_by_tag_name('body')\n"
     ]
    },
    {
     "name": "stdout",
     "output_type": "stream",
     "text": [
      "1\n",
      "2\n"
     ]
    }
   ],
   "source": [
    "goods_name = ['아누아 어성초 77 수딩 토너']\n",
    "\n",
    "for i in range(len(goods_name)):\n",
    "    crawling_youtube(goods_name[i],5)"
   ]
  },
  {
   "cell_type": "markdown",
   "id": "1c3b7b85",
   "metadata": {},
   "source": [
    "# 추가할 부분\n",
    "\n",
    "### 엑셀 파일에서 제품명 뽑아오기\n",
    "### 모든 리뷰 영상 가져오기(주소에 &sp=CAM%253D 추가하여 조회수 필터링 해야 결과가 유한하게 나옴, 정확하게 제품명만 가져와야 함)\n",
    "### -> 앞에 [한정수량] \\*\\*\\*뭐뭐뭐 pick\\*\\*\\* 이런 거 지우기\n",
    "### -> 뒤에 무슨무슨 \"(더블|듀오 etc)기획\" & 용량(N ml) & 소괄호 지우기 (하나 걸리면 뒷부분 싹 지우기)\n",
    "\n",
    "## *제품이 2개씩 나와있는 건? ex 가히 멀티밤 & 엑스틴 C밤 기획"
   ]
  },
  {
   "cell_type": "code",
   "execution_count": null,
   "id": "4f848f62",
   "metadata": {},
   "outputs": [],
   "source": []
  }
 ],
 "metadata": {
  "kernelspec": {
   "display_name": "Python 3 (ipykernel)",
   "language": "python",
   "name": "python3"
  },
  "language_info": {
   "codemirror_mode": {
    "name": "ipython",
    "version": 3
   },
   "file_extension": ".py",
   "mimetype": "text/x-python",
   "name": "python",
   "nbconvert_exporter": "python",
   "pygments_lexer": "ipython3",
   "version": "3.9.7"
  }
 },
 "nbformat": 4,
 "nbformat_minor": 5
}
