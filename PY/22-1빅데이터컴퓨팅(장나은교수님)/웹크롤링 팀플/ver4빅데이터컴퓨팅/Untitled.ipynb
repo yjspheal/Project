{
 "cells": [
  {
   "cell_type": "code",
   "execution_count": null,
   "id": "417f395e",
   "metadata": {},
   "outputs": [
    {
     "name": "stdout",
     "output_type": "stream",
     "text": [
      "1차 크롤링 : 올리브영랭크 상위 100위화장품을 크롤링합니다.\n"
     ]
    }
   ],
   "source": [
    "%run crawling_project.py"
   ]
  },
  {
   "cell_type": "code",
   "execution_count": null,
   "id": "390d4eac",
   "metadata": {},
   "outputs": [],
   "source": []
  }
 ],
 "metadata": {
  "kernelspec": {
   "display_name": "Python 3 (ipykernel)",
   "language": "python",
   "name": "python3"
  },
  "language_info": {
   "codemirror_mode": {
    "name": "ipython",
    "version": 3
   },
   "file_extension": ".py",
   "mimetype": "text/x-python",
   "name": "python",
   "nbconvert_exporter": "python",
   "pygments_lexer": "ipython3",
   "version": "3.9.7"
  }
 },
 "nbformat": 4,
 "nbformat_minor": 5
}
