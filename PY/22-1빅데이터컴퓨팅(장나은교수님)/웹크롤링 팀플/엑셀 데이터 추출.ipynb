{
 "cells": [
  {
   "cell_type": "code",
   "execution_count": null,
   "id": "d0ef6500",
   "metadata": {},
   "outputs": [],
   "source": [
    "평균가격\t평균리뷰개수\t평균별점\t평균진정\t평균좋아요/조회수\t유튜브 컨텐츠 수\t매출액\t검색량 \n"
   ]
  },
  {
   "cell_type": "code",
   "execution_count": null,
   "id": "06526bd7",
   "metadata": {},
   "outputs": [],
   "source": [
    "# 엑셀에 붙이기\n",
    "\n",
    "raw_datad = xl.load_workbook('올리브영랭크100위화장품정보.xlsx')\n",
    "raw_data = raw_datad.active\n",
    "\n",
    "goods_name = raw_data[\"C\"][1::]\n",
    "brand_name = raw_data[\"D\"][1::]\n",
    "\n",
    "raw_data[\"Q1\"] = \"유튜브 컨텐츠 수\"\n",
    "raw_data[\"R1\"] = \"총 조회수\"\n",
    "raw_data[\"S1\"] = \"총 좋아요수\"\n",
    "raw_data[\"T1\"] = \"총 댓글수\"\n",
    "\n",
    "\n",
    "for i in range(100):\n",
    "    goods = goods_name[i].value\n",
    "    brand = brand_name[i].value\n",
    "\n",
    "    filed = xl.load_workbook('./YT_data/'+f'{brand} {goods}'+\".xlsx\")\n",
    "    file = filed.active\n",
    "    \n",
    "    views = file[\"D\"][1::]\n",
    "    nices = file[\"E\"][1::]\n",
    "    replies = file[\"F\"][1::]\n",
    "    \n",
    "    contents_count = len(file[\"E\"][1::])\n",
    "        \n",
    "    views_sum = 0\n",
    "    for v in views:\n",
    "        views_sum += v.value\n",
    "        \n",
    "    nices_sum = 0\n",
    "    for n in nices:\n",
    "        nices_sum += n.value\n",
    "        \n",
    "    replies_sum = 0\n",
    "    for r in replies:\n",
    "        replies_sum += r.value\n",
    "\n",
    "    raw_data[f\"Q{i+2}\"] = contents_count\n",
    "    raw_data[f\"R{i+2}\"] = views_sum\n",
    "    raw_data[f\"S{i+2}\"] = nices_sum\n",
    "    raw_data[f\"T{i+2}\"] = replies_sum\n",
    "    \n",
    "    raw_datad.save('올리브영랭크100위화장품정보.xlsx')\n",
    "    \n",
    "\n"
   ]
  },
  {
   "cell_type": "code",
   "execution_count": null,
   "id": "e16c4b59",
   "metadata": {},
   "outputs": [],
   "source": []
  },
  {
   "cell_type": "code",
   "execution_count": null,
   "id": "eff6d082",
   "metadata": {},
   "outputs": [],
   "source": []
  }
 ],
 "metadata": {
  "kernelspec": {
   "display_name": "Python 3 (ipykernel)",
   "language": "python",
   "name": "python3"
  },
  "language_info": {
   "codemirror_mode": {
    "name": "ipython",
    "version": 3
   },
   "file_extension": ".py",
   "mimetype": "text/x-python",
   "name": "python",
   "nbconvert_exporter": "python",
   "pygments_lexer": "ipython3",
   "version": "3.9.7"
  }
 },
 "nbformat": 4,
 "nbformat_minor": 5
}
